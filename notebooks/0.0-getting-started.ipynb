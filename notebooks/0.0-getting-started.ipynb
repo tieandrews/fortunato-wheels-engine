{
 "cells": [
  {
   "attachments": {},
   "cell_type": "markdown",
   "metadata": {},
   "source": [
    "# Getting Started with Fortunato Wheels Data\n",
    "\n",
    "This notebook sets up the basic pieces to get started with the Fortunato Wheels data. It will:\n",
    "\n",
    "1. Load in the Cargurus data \n",
    "2. Connect to the database and get all ads (once you have the MongoDB connection string)\n",
    "3. Perform basic preprocessing on the data\n",
    "4. Create a simple plot with Plotly!"
   ]
  },
  {
   "cell_type": "code",
   "execution_count": 24,
   "metadata": {},
   "outputs": [
    {
     "name": "stdout",
     "output_type": "stream",
     "text": [
      "The autoreload extension is already loaded. To reload it, use:\n",
      "  %reload_ext autoreload\n"
     ]
    }
   ],
   "source": [
    "import os\n",
    "import sys\n",
    "\n",
    "import pandas as pd\n",
    "import plotly.express as px\n",
    "import logging\n",
    "\n",
    "# make sure we can import modules from the src directory\n",
    "cur_dir = os.getcwd()\n",
    "SRC_PATH = cur_dir[\n",
    "    : cur_dir.index(\"fortunato-wheels-engine\") + len(\"fortunato-wheels-engine\")\n",
    "]\n",
    "if SRC_PATH not in sys.path:\n",
    "    sys.path.append(SRC_PATH)\n",
    "\n",
    "from src.data.car_ads import CarAds\n",
    "from src.logs import get_logger\n",
    "\n",
    "# Create a custom logger\n",
    "logger = get_logger(__name__)\n",
    "\n",
    "%load_ext autoreload\n",
    "%autoreload 2"
   ]
  },
  {
   "attachments": {},
   "cell_type": "markdown",
   "metadata": {},
   "source": [
    "### What Makes/Models do we have data for?\n",
    "\n",
    "You can check what models are available for each make of car by name. If you don't specify a make it will return all the makes of cars available."
   ]
  },
  {
   "cell_type": "code",
   "execution_count": 25,
   "metadata": {},
   "outputs": [
    {
     "data": {
      "text/html": [
       "<style type=\"text/css\">\n",
       "#T_fca31 th {\n",
       "  text-align: center;\n",
       "}\n",
       "#T_fca31_row0_col0 {\n",
       "  inline-size: 700px;\n",
       "  overflow-wrap: break-word;\n",
       "  text-align: center;\n",
       "  font-weight: bold;\n",
       "  font-size: 15px;\n",
       "}\n",
       "</style>\n",
       "<table id=\"T_fca31\">\n",
       "  <thead>\n",
       "    <tr>\n",
       "      <th id=\"T_fca31_level0_col0\" class=\"col_heading level0 col0\" >Makes</th>\n",
       "    </tr>\n",
       "  </thead>\n",
       "  <tbody>\n",
       "    <tr>\n",
       "      <td id=\"T_fca31_row0_col0\" class=\"data row0 col0\" >Jeep, Land Rover, Subaru, Mazda, Alfa Romeo, BMW, Hyundai, Chevrolet, Lexus, Cadillac, Chrysler, Dodge, Mercedes-Benz, Nissan, Honda, Kia, Ford, Lincoln, Audi, Jaguar, Volkswagen, RAM, Porsche, Toyota, INFINITI, GMC, Acura, Maserati, FIAT, Volvo, Mitsubishi, Buick, Mercury, Scion, Saab, MINI, Ferrari, Genesis, Saturn, Bentley, Suzuki, Tesla, Fisker, Pontiac, Lamborghini, smart, Hummer, Rolls-Royce, Lotus, Spyker, McLaren, Aston Martin, Kaiser, Oldsmobile, Maybach, Freightliner, Karma, Isuzu, Plymouth, Shelby, Triumph, MG, Pagani, Datsun, Studebaker, AM General, Austin-Healey, AMC, Hudson, Willys, Pininfarina, Sunbeam, Geo, Opel, SRT, Edsel, VPG, Eagle, Bugatti, Daewoo, Hillman, Austin, Morris, Packard, Humber, DeTomaso, International Harvester, Ariel, DeSoto, Allard, Bricklin, DeLorean, Nash, Clenet, Mobility Ventures, Franklin, Jensen, Saleen, Koenigsegg, Rover, Infiniti, Other, Fiat, Smart, Mercedes-AMG, Polestar, Daihatsu, Austin Healey, Peugeot, Renault</td>\n",
       "    </tr>\n",
       "  </tbody>\n",
       "</table>\n"
      ],
      "text/plain": [
       "<pandas.io.formats.style.Styler at 0x20cd6ca71f0>"
      ]
     },
     "execution_count": 25,
     "metadata": {},
     "output_type": "execute_result"
    }
   ],
   "source": [
    "# create a CarAds object which handles all data operations\n",
    "ads = CarAds()\n",
    "\n",
    "# check all the makes available\n",
    "ads.find_make_model_names()"
   ]
  },
  {
   "cell_type": "code",
   "execution_count": 26,
   "metadata": {},
   "outputs": [
    {
     "data": {
      "text/html": [
       "<style type=\"text/css\">\n",
       "#T_31760 th {\n",
       "  text-align: center;\n",
       "}\n",
       "#T_31760_row0_col0, #T_31760_row1_col0 {\n",
       "  inline-size: 500px;\n",
       "  overflow-wrap: break-word;\n",
       "  text-align: center;\n",
       "  font-weight: bold;\n",
       "  font-size: 15px;\n",
       "}\n",
       "</style>\n",
       "<table id=\"T_31760\">\n",
       "  <thead>\n",
       "    <tr>\n",
       "      <th class=\"blank level0\" >&nbsp;</th>\n",
       "      <th id=\"T_31760_level0_col0\" class=\"col_heading level0 col0\" >Subaru</th>\n",
       "    </tr>\n",
       "  </thead>\n",
       "  <tbody>\n",
       "    <tr>\n",
       "      <th id=\"T_31760_level0_row0\" class=\"row_heading level0 row0\" >cargurus</th>\n",
       "      <td id=\"T_31760_row0_col0\" class=\"data row0 col0\" >['WRX STI', 'Impreza', 'Outback', 'WRX', 'XV Crosstrek', 'Forester', 'Crosstrek', 'Legacy', 'BRZ', 'Impreza WRX', 'Impreza WRX STI', 'Ascent', 'Crosstrek Hybrid', 'B9 Tribeca', 'Tribeca', 'Baja', 'XV Crosstrek Hybrid', 'SVX']</td>\n",
       "    </tr>\n",
       "    <tr>\n",
       "      <th id=\"T_31760_level0_row1\" class=\"row_heading level0 row1\" >kijiji</th>\n",
       "      <td id=\"T_31760_row1_col0\" class=\"data row1 col0\" >['Impreza', 'Outback', 'Forester', 'Legacy', 'WRX', 'XV Crosstrek', 'BRZ', 'Impreza WRX STi', 'Ascent', 'B9 Tribeca', 'Tribeca', 'Other', 'Baja', 'Solterra', 'SVX']</td>\n",
       "    </tr>\n",
       "  </tbody>\n",
       "</table>\n"
      ],
      "text/plain": [
       "<pandas.io.formats.style.Styler at 0x20cd6ca7e20>"
      ]
     },
     "execution_count": 26,
     "metadata": {},
     "output_type": "execute_result"
    }
   ],
   "source": [
    "# to figure out what models there are, use the find_make_model_names method\n",
    "ads.find_make_model_names(make = \"Subaru\")"
   ]
  },
  {
   "attachments": {},
   "cell_type": "markdown",
   "metadata": {},
   "source": [
    "### I want to get all ads for a specific make and model\n",
    "\n",
    "You can get all ads for a specific make and model from the multiple datasets each argument is optional, if you leave it out it will return all ads that match the criteria you did specify."
   ]
  },
  {
   "cell_type": "code",
   "execution_count": 4,
   "metadata": {},
   "outputs": [
    {
     "name": "stdout",
     "output_type": "stream",
     "text": [
      "2023-04-06 00:36:25,843 - src.data.car_ads - INFO - Getting all car ads from all sources...\n",
      "2023-04-06 00:36:25,846 - src.data.car_ads - INFO - Getting all cargurus car ads...\n",
      "2023-04-06 00:36:27,604 - src.data.car_ads - INFO - Found 1318 cargurus car ads.\n",
      "2023-04-06 00:36:27,800 - src.data.car_ads - INFO - Getting all kijiji car ads...\n",
      "2023-04-06 00:36:29,346 - src.data.car_ads - INFO - Found 79 kijiji car ads.\n",
      "2023-04-06 00:36:29,357 - src.data.car_ads - INFO - Found 1397 car ads.\n"
     ]
    }
   ],
   "source": [
    "make = \"Subaru\"\n",
    "model = \"Outback\"\n",
    "year_range = (2008, 2012)\n",
    "\n",
    "ads.get_car_ads(year_range = year_range, make = make, model = model)"
   ]
  },
  {
   "cell_type": "code",
   "execution_count": 5,
   "metadata": {},
   "outputs": [
    {
     "name": "stdout",
     "output_type": "stream",
     "text": [
      "<class 'pandas.core.frame.DataFrame'>\n",
      "RangeIndex: 1397 entries, 0 to 1396\n",
      "Data columns (total 35 columns):\n",
      " #   Column                    Non-Null Count  Dtype         \n",
      "---  ------                    --------------  -----         \n",
      " 0   make                      1397 non-null   object        \n",
      " 1   model                     1397 non-null   object        \n",
      " 2   year                      1397 non-null   int64         \n",
      " 3   listed_date               1318 non-null   datetime64[ns]\n",
      " 4   price                     1394 non-null   float64       \n",
      " 5   mileage                   1391 non-null   float64       \n",
      " 6   major_options             1304 non-null   object        \n",
      " 7   seller_rating             1295 non-null   float64       \n",
      " 8   horsepower                1318 non-null   float64       \n",
      " 9   fuel_type                 1318 non-null   category      \n",
      " 10  wheel_system              1313 non-null   category      \n",
      " 11  currency                  1394 non-null   object        \n",
      " 12  exchange_rate_usd_to_cad  1318 non-null   float64       \n",
      " 13  source                    1397 non-null   object        \n",
      " 14  _id                       79 non-null     object        \n",
      " 15  ad_id                     79 non-null     object        \n",
      " 16  url                       79 non-null     object        \n",
      " 17  title                     79 non-null     object        \n",
      " 18  trim                      24 non-null     object        \n",
      " 19  condition                 79 non-null     object        \n",
      " 20  mileageUnit               79 non-null     object        \n",
      " 21  transmission              22 non-null     object        \n",
      " 22  color                     55 non-null     object        \n",
      " 23  price_history             79 non-null     object        \n",
      " 24  images                    79 non-null     object        \n",
      " 25  modified                  79 non-null     float64       \n",
      " 26  created                   79 non-null     float64       \n",
      " 27  location                  79 non-null     object        \n",
      " 28  seller                    79 non-null     object        \n",
      " 29  details                   79 non-null     object        \n",
      " 30  priceRating               14 non-null     object        \n",
      " 31  driveTrain                19 non-null     object        \n",
      " 32  fuelType                  20 non-null     object        \n",
      " 33  vin                       16 non-null     object        \n",
      " 34  features                  47 non-null     object        \n",
      "dtypes: category(2), datetime64[ns](1), float64(7), int64(1), object(24)\n",
      "memory usage: 1.5 MB\n"
     ]
    }
   ],
   "source": [
    "ads.df.info(memory_usage=\"deep\")"
   ]
  },
  {
   "cell_type": "code",
   "execution_count": 6,
   "metadata": {},
   "outputs": [
    {
     "data": {
      "application/vnd.plotly.v1+json": {
       "config": {
        "plotlyServerURL": "https://plot.ly"
       },
       "data": [
        {
         "alignmentgroup": "True",
         "bingroup": "x",
         "hovertemplate": "source=cargurus<br>price=%{x}<br>count=%{y}<extra></extra>",
         "legendgroup": "cargurus",
         "marker": {
          "color": "#636efa",
          "pattern": {
           "shape": ""
          }
         },
         "name": "cargurus",
         "offsetgroup": "cargurus",
         "orientation": "v",
         "showlegend": true,
         "type": "histogram",
         "x": [
          7045,
          5230,
          6099,
          13089,
          8051,
          4343,
          5367,
          3922,
          10914,
          12597,
          11887,
          7795,
          11480,
          15189,
          13296,
          13373,
          10569,
          7851,
          7661,
          7714,
          13289,
          14341,
          9201,
          7968,
          10174,
          8512,
          10869,
          9097,
          15657,
          12485,
          10436,
          13494,
          10735,
          10572,
          9108,
          6032,
          18545,
          6093,
          13217,
          18786,
          16433,
          12401,
          10531,
          12094,
          12703,
          8120,
          13638,
          7825,
          7851,
          12074,
          18399,
          18352,
          21054,
          19020,
          7922,
          10728,
          8136,
          8045,
          14177,
          17455,
          19209,
          10560,
          10743,
          9173,
          6514,
          9196,
          9131,
          9456,
          8136,
          14673,
          9386,
          16752,
          16392,
          9207,
          15990,
          18268,
          18291,
          11098,
          9220,
          8128,
          15010,
          7279,
          7825,
          11198,
          14955,
          15364,
          14473,
          4240,
          7767,
          6374,
          7459,
          11961,
          13094,
          12558,
          9462,
          8000,
          7477,
          11266,
          16917,
          7677,
          16767,
          13227,
          14347,
          13864,
          6173,
          11227,
          9160,
          12097,
          10541,
          10874,
          15044,
          10569,
          7942,
          9776,
          10454,
          9196,
          14753,
          13136,
          9811,
          17328,
          7563,
          12191,
          8578,
          10534,
          7844,
          9219,
          8050,
          14732,
          6792,
          9293,
          10853,
          13960,
          18927,
          14364,
          10869,
          14516,
          7844,
          14418,
          16602,
          9356,
          14457,
          9103,
          12395,
          14734,
          14399,
          9556,
          11516,
          11881,
          12441,
          13547,
          5215,
          11433,
          13089,
          9464,
          10734,
          12211,
          11175,
          10744,
          22514,
          12305,
          8965,
          16775,
          15968,
          12542,
          9175,
          9007,
          11887,
          10464,
          10737,
          9363,
          10669,
          7987,
          18390,
          13940,
          13751,
          12531,
          11944,
          16773,
          8016,
          10282,
          10333,
          8025,
          12021,
          10847,
          11926,
          8142,
          5398,
          10405,
          5859,
          12558,
          6107,
          13243,
          9901,
          14399,
          8566,
          14313,
          16186,
          9768,
          13186,
          13002,
          13008,
          14604,
          6715,
          18186,
          11247,
          13217,
          12955,
          12960,
          12841,
          18322,
          12298,
          14537,
          10474,
          13088,
          9199,
          9363,
          7394,
          7230,
          15599,
          12884,
          11536,
          15340,
          14006,
          19864,
          11783,
          12315,
          11905,
          12208,
          5368,
          11126,
          8933,
          15777,
          15383,
          13565,
          13412,
          14266,
          10511,
          10822,
          13290,
          9856,
          9247,
          13093,
          12208,
          6377,
          14626,
          12956,
          10360,
          13178,
          12186,
          14405,
          11846,
          10505,
          10904,
          9108,
          10922,
          10572,
          9154,
          11780,
          11891,
          10426,
          10406,
          7908,
          14331,
          10722,
          13429,
          13487,
          15737,
          13785,
          8453,
          9844,
          11955,
          10541,
          12608,
          11089,
          15424,
          12914,
          9493,
          13178,
          14064,
          12678,
          11337,
          11779,
          10470,
          15705,
          9474,
          6770,
          9173,
          12458,
          9544,
          10567,
          12063,
          8390,
          14095,
          12398,
          10732,
          14216,
          10200,
          8136,
          17752,
          12944,
          12054,
          9519,
          11405,
          8412,
          13063,
          11274,
          8981,
          13868,
          10453,
          7861,
          17269,
          7537,
          8630,
          13272,
          9491,
          14756,
          18086,
          8423,
          8154,
          14194,
          11888,
          12041,
          10552,
          15668,
          11750,
          13375,
          15629,
          11095,
          6645,
          9390,
          9133,
          13847,
          13247,
          7701,
          9236,
          10313,
          12458,
          14671,
          9826,
          8876,
          15716,
          8673,
          16523,
          12071,
          10795,
          14399,
          13140,
          4844,
          10182,
          12378,
          6515,
          10754,
          12936,
          10002,
          16967,
          9269,
          9240,
          13954,
          16101,
          13583,
          12094,
          12071,
          14954,
          13251,
          13376,
          11319,
          12474,
          15531,
          9166,
          14540,
          15418,
          10447,
          7465,
          11774,
          14753,
          10671,
          15162,
          13217,
          13565,
          13011,
          8822,
          16091,
          13587,
          15670,
          14412,
          17089,
          10255,
          13526,
          12946,
          18203,
          16277,
          8308,
          15972,
          21367,
          9307,
          15754,
          10061,
          16427,
          14755,
          15670,
          13413,
          12578,
          10851,
          13379,
          14600,
          12213,
          8707,
          8801,
          9301,
          13131,
          9138,
          13535,
          12234,
          9400,
          11848,
          8905,
          7855,
          7881,
          11189,
          14438,
          7920,
          17752,
          12744,
          13249,
          11802,
          11393,
          6502,
          14352,
          12004,
          10970,
          11674,
          13221,
          11909,
          15775,
          8300,
          11737,
          16015,
          12086,
          10579,
          9257,
          7968,
          15506,
          9196,
          13805,
          12907,
          15661,
          12441,
          10510,
          8010,
          9160,
          16456,
          16286,
          9188,
          9041,
          14460,
          15148,
          13210,
          14648,
          7851,
          7551,
          10170,
          11766,
          11701,
          18434,
          8571,
          17011,
          8654,
          11393,
          11859,
          14263,
          11175,
          13948,
          13528,
          7196,
          9272,
          9145,
          10279,
          17091,
          13816,
          11695,
          10675,
          12537,
          9342,
          16775,
          7396,
          15895,
          12606,
          8892,
          15048,
          14353,
          8478,
          18204,
          9341,
          11105,
          11731,
          12632,
          8594,
          13233,
          14263,
          7891,
          9914,
          10845,
          16086,
          8102,
          15185,
          9452,
          13902,
          7181,
          6164,
          17679,
          10092,
          6677,
          11116,
          15285,
          12769,
          13148,
          14825,
          10537,
          9935,
          11923,
          15074,
          10565,
          6711,
          15736,
          17729,
          12409,
          14571,
          10627,
          10861,
          12070,
          10584,
          14690,
          12042,
          14248,
          17603,
          9104,
          17149,
          14145,
          20246,
          10148,
          14373,
          16643,
          10836,
          14437,
          11888,
          13083,
          8017,
          13172,
          13351,
          11786,
          14405,
          14405,
          15313,
          6286,
          13214,
          7020,
          15527,
          17084,
          12988,
          15702,
          17845,
          10477,
          11804,
          13706,
          12162,
          7789,
          12336,
          9361,
          9131,
          11732,
          8770,
          14538,
          14403,
          11552,
          12208,
          12956,
          16956,
          15775,
          11070,
          18097,
          6097,
          9135,
          7825,
          11825,
          11916,
          8112,
          13073,
          16628,
          8834,
          12162,
          10949,
          12123,
          8680,
          10443,
          9391,
          9356,
          13253,
          15474,
          10470,
          9966,
          12158,
          7841,
          9162,
          10735,
          12655,
          12585,
          14993,
          15890,
          9192,
          8007,
          13332,
          8369,
          16919,
          13241,
          15890,
          9979,
          9163,
          16095,
          14530,
          15950,
          14216,
          12525,
          19829,
          13534,
          6525,
          11916,
          8635,
          14264,
          9382,
          13432,
          9482,
          8704,
          11591,
          10931,
          9260,
          10194,
          8673,
          20509,
          9510,
          13147,
          9266,
          6245,
          9419,
          10517,
          12023,
          16922,
          10229,
          13724,
          11245,
          12034,
          15110,
          10436,
          11907,
          12273,
          10981,
          10596,
          12609,
          16132,
          9661,
          11877,
          16516,
          10497,
          19062,
          13908,
          13423,
          14904,
          17070,
          11916,
          10699,
          12958,
          11835,
          11708,
          13964,
          11895,
          8983,
          10251,
          9190,
          11741,
          9113,
          13055,
          9214,
          10436,
          11277,
          11724,
          16967,
          9386,
          18268,
          14250,
          10346,
          10191,
          10739,
          7451,
          8608,
          12496,
          11181,
          14731,
          10066,
          13731,
          15702,
          14403,
          12754,
          13816,
          15601,
          13621,
          11171,
          13010,
          14373,
          11125,
          12075,
          18451,
          6417,
          9990,
          13251,
          10116,
          11256,
          10676,
          9895,
          10980,
          13960,
          14307,
          13089,
          14414,
          10572,
          14318,
          10040,
          17031,
          11137,
          16887,
          18103,
          13011,
          14280,
          7886,
          13446,
          9780,
          8204,
          9297,
          17007,
          12506,
          10869,
          8148,
          12944,
          15236,
          11766,
          12196,
          11605,
          11080,
          9674,
          9466,
          10515,
          8888,
          11429,
          11856,
          12834,
          10175,
          14399,
          12856,
          7010,
          13380,
          11356,
          12566,
          17172,
          17327,
          21062,
          17150,
          9090,
          18276,
          7899,
          15583,
          10549,
          8109,
          9490,
          13500,
          15812,
          9965,
          9219,
          16655,
          15131,
          13875,
          11756,
          17074,
          10541,
          15724,
          9374,
          14091,
          17024,
          14359,
          10702,
          12563,
          8885,
          13530,
          9911,
          9630,
          13246,
          13553,
          6702,
          11901,
          10287,
          8832,
          14522,
          6072,
          7924,
          9806,
          12660,
          11969,
          8436,
          10484,
          12092,
          12488,
          10455,
          16073,
          14755,
          14228,
          8668,
          9161,
          12026,
          9091,
          18546,
          12284,
          19512,
          12053,
          12004,
          13387,
          13828,
          10228,
          17660,
          13245,
          9079,
          13921,
          11707,
          15773,
          15734,
          12519,
          9681,
          6610,
          9583,
          10602,
          12848,
          8105,
          7879,
          7221,
          8379,
          10026,
          9996,
          7640,
          11230,
          10506,
          18651,
          13400,
          9291,
          16969,
          14793,
          16473,
          13864,
          10122,
          9514,
          18511,
          12022,
          15890,
          11464,
          11965,
          14130,
          11759,
          10600,
          11884,
          5351,
          17034,
          15533,
          8515,
          9620,
          15654,
          15771,
          14160,
          7264,
          14352,
          17093,
          12513,
          12075,
          12465,
          16772,
          9742,
          12011,
          9704,
          11259,
          17998,
          15715,
          8804,
          17810,
          13047,
          10447,
          11985,
          18869,
          10307,
          10291,
          9770,
          15661,
          8838,
          12990,
          10182,
          6293,
          15588,
          16958,
          15805,
          9872,
          12764,
          8563,
          11396,
          9647,
          10969,
          10543,
          11161,
          13179,
          11748,
          13110,
          12611,
          14242,
          6455,
          15596,
          11131,
          14345,
          16130,
          12022,
          10192,
          9834,
          8640,
          17030,
          13256,
          10513,
          13251,
          14749,
          10731,
          14711,
          14357,
          18505,
          10512,
          34126,
          31252,
          15674,
          10572,
          10484,
          10436,
          8061,
          14565,
          9267,
          7374,
          5422,
          9272,
          11790,
          10312,
          13414,
          13212,
          14371,
          10913,
          11751,
          12487,
          12585,
          11835,
          11233,
          17751,
          11741,
          8434,
          13047,
          11761,
          10874,
          14755,
          13404,
          8611,
          10582,
          11560,
          6518,
          15852,
          8776,
          14906,
          13699,
          12824,
          11430,
          11751,
          15176,
          14885,
          10687,
          17074,
          14486,
          13215,
          13880,
          14484,
          18536,
          7851,
          13047,
          8715,
          15715,
          13111,
          9270,
          13207,
          16779,
          13047,
          13649,
          9918,
          9091,
          13145,
          14294,
          9131,
          14539,
          15508,
          8523,
          10591,
          9062,
          11877,
          13921,
          8885,
          5482,
          9196,
          11512,
          15502,
          7273,
          6703,
          7419,
          11928,
          11895,
          11129,
          17277,
          14302,
          8270,
          5647,
          12834,
          9133,
          14753,
          9163,
          11770,
          13106,
          14352,
          9510,
          9598,
          19724,
          16773,
          15596,
          13339,
          18447,
          16458,
          17036,
          15315,
          18148,
          17021,
          7748,
          6605,
          15862,
          12160,
          14424,
          11692,
          12518,
          12826,
          10387,
          15615,
          9754,
          13080,
          11753,
          13372,
          8761,
          14176,
          23779,
          10621,
          5365,
          11835,
          9104,
          15605,
          10178,
          12078,
          9975,
          13823,
          15567,
          13686,
          20053,
          13414,
          10037,
          11829,
          13885,
          14316,
          15044,
          13024,
          8448,
          10731,
          13487,
          9514,
          7421,
          13056,
          12641,
          16372,
          11482,
          11260,
          12318,
          11482,
          11996,
          8810,
          13132,
          12517,
          14039,
          17559,
          11944,
          11891,
          13120,
          12070,
          20969,
          16443,
          6736,
          9328,
          10810,
          8036,
          6694,
          15450,
          11292,
          6996,
          10531,
          13828,
          19822,
          9566,
          8920,
          13662,
          11881,
          12497,
          9228,
          10887,
          8887,
          13141,
          13145,
          7644,
          13863,
          15640,
          12488,
          9275,
          16998,
          14377,
          8217,
          15674,
          8539,
          14797,
          6793,
          13083,
          14216,
          12337,
          15044,
          17117,
          9431,
          17810,
          6014,
          17013,
          8369,
          6071,
          11277,
          14633,
          14010,
          8995,
          7279,
          9023,
          8976,
          10047,
          13158,
          18517,
          14355,
          14539,
          10627,
          11188,
          16093,
          17697,
          12292,
          14398,
          13594,
          11516,
          17024,
          17215,
          17266,
          14371,
          13089,
          7905,
          10274,
          10573,
          14343,
          10822,
          9214,
          13412,
          14457,
          11422,
          11783,
          13047,
          11475,
          12440,
          11785,
          11916,
          17188,
          16733,
          13803,
          11756,
          7881,
          6648,
          9783,
          11742,
          10977,
          12778,
          9822,
          10445,
          17434,
          13233,
          8045,
          16624,
          14852,
          8820,
          12767,
          8566,
          11332,
          8512,
          8647,
          13412,
          9815,
          15194,
          15660,
          11801,
          12221,
          17729,
          9135,
          11236,
          12486,
          9419,
          13857,
          13394,
          8611,
          10689,
          15648,
          14656,
          15491,
          17141,
          20300,
          4869,
          19173,
          7767,
          7948,
          19520,
          9499,
          10675,
          10735,
          9458,
          11201,
          13178,
          20690,
          13354,
          13878,
          11125,
          13417,
          15805,
          11711,
          12558,
          10559,
          8131,
          13049,
          12663,
          16253,
          8579,
          14379,
          14497,
          5932,
          12910,
          12491,
          10927,
          9173,
          13535,
          10477,
          9250,
          18982,
          10182,
          14605,
          12053,
          16304,
          7868,
          9701,
          6704,
          10569,
          7228,
          8652,
          17089,
          13113,
          8030,
          11859,
          15705,
          9563,
          8772,
          15664,
          13107,
          8722,
          11768,
          14673,
          15764,
          11866,
          6438,
          15335,
          13286,
          15651,
          8847,
          15710,
          17296,
          9483,
          12584,
          10572,
          13053,
          19636,
          9103,
          13868,
          7180,
          10448,
          12891,
          22407,
          15648,
          11816,
          11453,
          9997,
          13722,
          14750,
          11263,
          10446,
          15808,
          11780,
          13484,
          16273
         ],
         "xaxis": "x",
         "yaxis": "y"
        },
        {
         "alignmentgroup": "True",
         "bingroup": "x",
         "hovertemplate": "source=kijiji<br>price=%{x}<br>count=%{y}<extra></extra>",
         "legendgroup": "kijiji",
         "marker": {
          "color": "#EF553B",
          "pattern": {
           "shape": ""
          }
         },
         "name": "kijiji",
         "offsetgroup": "kijiji",
         "orientation": "v",
         "showlegend": true,
         "type": "histogram",
         "x": [
          6200,
          3000,
          12900,
          9995,
          7800,
          6250,
          5950,
          10995,
          9500,
          7500,
          7800,
          7750,
          10995,
          6995,
          9669,
          7977,
          4888,
          4400,
          14000,
          5495,
          7950,
          6995,
          6795,
          3500,
          9950,
          5499,
          10000,
          5900,
          3995,
          9500,
          7500,
          8000,
          10250,
          9200,
          9500,
          8000,
          6800,
          7500,
          2500,
          8700,
          4300,
          6500,
          4295,
          5000,
          6900,
          6495,
          6995,
          5000,
          15500,
          8950,
          3890,
          9500,
          5750,
          9000,
          12400,
          4200,
          5000,
          2650,
          9500,
          5500,
          7800,
          6999,
          6795,
          4950,
          13931,
          8900,
          5995,
          9950,
          1950,
          5500,
          9500,
          9990,
          6400,
          10000,
          6195,
          9888
         ],
         "xaxis": "x",
         "yaxis": "y"
        }
       ],
       "layout": {
        "barmode": "relative",
        "legend": {
         "title": {
          "text": "source"
         },
         "tracegroupgap": 0
        },
        "template": {
         "data": {
          "bar": [
           {
            "error_x": {
             "color": "#2a3f5f"
            },
            "error_y": {
             "color": "#2a3f5f"
            },
            "marker": {
             "line": {
              "color": "#E5ECF6",
              "width": 0.5
             },
             "pattern": {
              "fillmode": "overlay",
              "size": 10,
              "solidity": 0.2
             }
            },
            "type": "bar"
           }
          ],
          "barpolar": [
           {
            "marker": {
             "line": {
              "color": "#E5ECF6",
              "width": 0.5
             },
             "pattern": {
              "fillmode": "overlay",
              "size": 10,
              "solidity": 0.2
             }
            },
            "type": "barpolar"
           }
          ],
          "carpet": [
           {
            "aaxis": {
             "endlinecolor": "#2a3f5f",
             "gridcolor": "white",
             "linecolor": "white",
             "minorgridcolor": "white",
             "startlinecolor": "#2a3f5f"
            },
            "baxis": {
             "endlinecolor": "#2a3f5f",
             "gridcolor": "white",
             "linecolor": "white",
             "minorgridcolor": "white",
             "startlinecolor": "#2a3f5f"
            },
            "type": "carpet"
           }
          ],
          "choropleth": [
           {
            "colorbar": {
             "outlinewidth": 0,
             "ticks": ""
            },
            "type": "choropleth"
           }
          ],
          "contour": [
           {
            "colorbar": {
             "outlinewidth": 0,
             "ticks": ""
            },
            "colorscale": [
             [
              0,
              "#0d0887"
             ],
             [
              0.1111111111111111,
              "#46039f"
             ],
             [
              0.2222222222222222,
              "#7201a8"
             ],
             [
              0.3333333333333333,
              "#9c179e"
             ],
             [
              0.4444444444444444,
              "#bd3786"
             ],
             [
              0.5555555555555556,
              "#d8576b"
             ],
             [
              0.6666666666666666,
              "#ed7953"
             ],
             [
              0.7777777777777778,
              "#fb9f3a"
             ],
             [
              0.8888888888888888,
              "#fdca26"
             ],
             [
              1,
              "#f0f921"
             ]
            ],
            "type": "contour"
           }
          ],
          "contourcarpet": [
           {
            "colorbar": {
             "outlinewidth": 0,
             "ticks": ""
            },
            "type": "contourcarpet"
           }
          ],
          "heatmap": [
           {
            "colorbar": {
             "outlinewidth": 0,
             "ticks": ""
            },
            "colorscale": [
             [
              0,
              "#0d0887"
             ],
             [
              0.1111111111111111,
              "#46039f"
             ],
             [
              0.2222222222222222,
              "#7201a8"
             ],
             [
              0.3333333333333333,
              "#9c179e"
             ],
             [
              0.4444444444444444,
              "#bd3786"
             ],
             [
              0.5555555555555556,
              "#d8576b"
             ],
             [
              0.6666666666666666,
              "#ed7953"
             ],
             [
              0.7777777777777778,
              "#fb9f3a"
             ],
             [
              0.8888888888888888,
              "#fdca26"
             ],
             [
              1,
              "#f0f921"
             ]
            ],
            "type": "heatmap"
           }
          ],
          "heatmapgl": [
           {
            "colorbar": {
             "outlinewidth": 0,
             "ticks": ""
            },
            "colorscale": [
             [
              0,
              "#0d0887"
             ],
             [
              0.1111111111111111,
              "#46039f"
             ],
             [
              0.2222222222222222,
              "#7201a8"
             ],
             [
              0.3333333333333333,
              "#9c179e"
             ],
             [
              0.4444444444444444,
              "#bd3786"
             ],
             [
              0.5555555555555556,
              "#d8576b"
             ],
             [
              0.6666666666666666,
              "#ed7953"
             ],
             [
              0.7777777777777778,
              "#fb9f3a"
             ],
             [
              0.8888888888888888,
              "#fdca26"
             ],
             [
              1,
              "#f0f921"
             ]
            ],
            "type": "heatmapgl"
           }
          ],
          "histogram": [
           {
            "marker": {
             "pattern": {
              "fillmode": "overlay",
              "size": 10,
              "solidity": 0.2
             }
            },
            "type": "histogram"
           }
          ],
          "histogram2d": [
           {
            "colorbar": {
             "outlinewidth": 0,
             "ticks": ""
            },
            "colorscale": [
             [
              0,
              "#0d0887"
             ],
             [
              0.1111111111111111,
              "#46039f"
             ],
             [
              0.2222222222222222,
              "#7201a8"
             ],
             [
              0.3333333333333333,
              "#9c179e"
             ],
             [
              0.4444444444444444,
              "#bd3786"
             ],
             [
              0.5555555555555556,
              "#d8576b"
             ],
             [
              0.6666666666666666,
              "#ed7953"
             ],
             [
              0.7777777777777778,
              "#fb9f3a"
             ],
             [
              0.8888888888888888,
              "#fdca26"
             ],
             [
              1,
              "#f0f921"
             ]
            ],
            "type": "histogram2d"
           }
          ],
          "histogram2dcontour": [
           {
            "colorbar": {
             "outlinewidth": 0,
             "ticks": ""
            },
            "colorscale": [
             [
              0,
              "#0d0887"
             ],
             [
              0.1111111111111111,
              "#46039f"
             ],
             [
              0.2222222222222222,
              "#7201a8"
             ],
             [
              0.3333333333333333,
              "#9c179e"
             ],
             [
              0.4444444444444444,
              "#bd3786"
             ],
             [
              0.5555555555555556,
              "#d8576b"
             ],
             [
              0.6666666666666666,
              "#ed7953"
             ],
             [
              0.7777777777777778,
              "#fb9f3a"
             ],
             [
              0.8888888888888888,
              "#fdca26"
             ],
             [
              1,
              "#f0f921"
             ]
            ],
            "type": "histogram2dcontour"
           }
          ],
          "mesh3d": [
           {
            "colorbar": {
             "outlinewidth": 0,
             "ticks": ""
            },
            "type": "mesh3d"
           }
          ],
          "parcoords": [
           {
            "line": {
             "colorbar": {
              "outlinewidth": 0,
              "ticks": ""
             }
            },
            "type": "parcoords"
           }
          ],
          "pie": [
           {
            "automargin": true,
            "type": "pie"
           }
          ],
          "scatter": [
           {
            "fillpattern": {
             "fillmode": "overlay",
             "size": 10,
             "solidity": 0.2
            },
            "type": "scatter"
           }
          ],
          "scatter3d": [
           {
            "line": {
             "colorbar": {
              "outlinewidth": 0,
              "ticks": ""
             }
            },
            "marker": {
             "colorbar": {
              "outlinewidth": 0,
              "ticks": ""
             }
            },
            "type": "scatter3d"
           }
          ],
          "scattercarpet": [
           {
            "marker": {
             "colorbar": {
              "outlinewidth": 0,
              "ticks": ""
             }
            },
            "type": "scattercarpet"
           }
          ],
          "scattergeo": [
           {
            "marker": {
             "colorbar": {
              "outlinewidth": 0,
              "ticks": ""
             }
            },
            "type": "scattergeo"
           }
          ],
          "scattergl": [
           {
            "marker": {
             "colorbar": {
              "outlinewidth": 0,
              "ticks": ""
             }
            },
            "type": "scattergl"
           }
          ],
          "scattermapbox": [
           {
            "marker": {
             "colorbar": {
              "outlinewidth": 0,
              "ticks": ""
             }
            },
            "type": "scattermapbox"
           }
          ],
          "scatterpolar": [
           {
            "marker": {
             "colorbar": {
              "outlinewidth": 0,
              "ticks": ""
             }
            },
            "type": "scatterpolar"
           }
          ],
          "scatterpolargl": [
           {
            "marker": {
             "colorbar": {
              "outlinewidth": 0,
              "ticks": ""
             }
            },
            "type": "scatterpolargl"
           }
          ],
          "scatterternary": [
           {
            "marker": {
             "colorbar": {
              "outlinewidth": 0,
              "ticks": ""
             }
            },
            "type": "scatterternary"
           }
          ],
          "surface": [
           {
            "colorbar": {
             "outlinewidth": 0,
             "ticks": ""
            },
            "colorscale": [
             [
              0,
              "#0d0887"
             ],
             [
              0.1111111111111111,
              "#46039f"
             ],
             [
              0.2222222222222222,
              "#7201a8"
             ],
             [
              0.3333333333333333,
              "#9c179e"
             ],
             [
              0.4444444444444444,
              "#bd3786"
             ],
             [
              0.5555555555555556,
              "#d8576b"
             ],
             [
              0.6666666666666666,
              "#ed7953"
             ],
             [
              0.7777777777777778,
              "#fb9f3a"
             ],
             [
              0.8888888888888888,
              "#fdca26"
             ],
             [
              1,
              "#f0f921"
             ]
            ],
            "type": "surface"
           }
          ],
          "table": [
           {
            "cells": {
             "fill": {
              "color": "#EBF0F8"
             },
             "line": {
              "color": "white"
             }
            },
            "header": {
             "fill": {
              "color": "#C8D4E3"
             },
             "line": {
              "color": "white"
             }
            },
            "type": "table"
           }
          ]
         },
         "layout": {
          "annotationdefaults": {
           "arrowcolor": "#2a3f5f",
           "arrowhead": 0,
           "arrowwidth": 1
          },
          "autotypenumbers": "strict",
          "coloraxis": {
           "colorbar": {
            "outlinewidth": 0,
            "ticks": ""
           }
          },
          "colorscale": {
           "diverging": [
            [
             0,
             "#8e0152"
            ],
            [
             0.1,
             "#c51b7d"
            ],
            [
             0.2,
             "#de77ae"
            ],
            [
             0.3,
             "#f1b6da"
            ],
            [
             0.4,
             "#fde0ef"
            ],
            [
             0.5,
             "#f7f7f7"
            ],
            [
             0.6,
             "#e6f5d0"
            ],
            [
             0.7,
             "#b8e186"
            ],
            [
             0.8,
             "#7fbc41"
            ],
            [
             0.9,
             "#4d9221"
            ],
            [
             1,
             "#276419"
            ]
           ],
           "sequential": [
            [
             0,
             "#0d0887"
            ],
            [
             0.1111111111111111,
             "#46039f"
            ],
            [
             0.2222222222222222,
             "#7201a8"
            ],
            [
             0.3333333333333333,
             "#9c179e"
            ],
            [
             0.4444444444444444,
             "#bd3786"
            ],
            [
             0.5555555555555556,
             "#d8576b"
            ],
            [
             0.6666666666666666,
             "#ed7953"
            ],
            [
             0.7777777777777778,
             "#fb9f3a"
            ],
            [
             0.8888888888888888,
             "#fdca26"
            ],
            [
             1,
             "#f0f921"
            ]
           ],
           "sequentialminus": [
            [
             0,
             "#0d0887"
            ],
            [
             0.1111111111111111,
             "#46039f"
            ],
            [
             0.2222222222222222,
             "#7201a8"
            ],
            [
             0.3333333333333333,
             "#9c179e"
            ],
            [
             0.4444444444444444,
             "#bd3786"
            ],
            [
             0.5555555555555556,
             "#d8576b"
            ],
            [
             0.6666666666666666,
             "#ed7953"
            ],
            [
             0.7777777777777778,
             "#fb9f3a"
            ],
            [
             0.8888888888888888,
             "#fdca26"
            ],
            [
             1,
             "#f0f921"
            ]
           ]
          },
          "colorway": [
           "#636efa",
           "#EF553B",
           "#00cc96",
           "#ab63fa",
           "#FFA15A",
           "#19d3f3",
           "#FF6692",
           "#B6E880",
           "#FF97FF",
           "#FECB52"
          ],
          "font": {
           "color": "#2a3f5f"
          },
          "geo": {
           "bgcolor": "white",
           "lakecolor": "white",
           "landcolor": "#E5ECF6",
           "showlakes": true,
           "showland": true,
           "subunitcolor": "white"
          },
          "hoverlabel": {
           "align": "left"
          },
          "hovermode": "closest",
          "mapbox": {
           "style": "light"
          },
          "paper_bgcolor": "white",
          "plot_bgcolor": "#E5ECF6",
          "polar": {
           "angularaxis": {
            "gridcolor": "white",
            "linecolor": "white",
            "ticks": ""
           },
           "bgcolor": "#E5ECF6",
           "radialaxis": {
            "gridcolor": "white",
            "linecolor": "white",
            "ticks": ""
           }
          },
          "scene": {
           "xaxis": {
            "backgroundcolor": "#E5ECF6",
            "gridcolor": "white",
            "gridwidth": 2,
            "linecolor": "white",
            "showbackground": true,
            "ticks": "",
            "zerolinecolor": "white"
           },
           "yaxis": {
            "backgroundcolor": "#E5ECF6",
            "gridcolor": "white",
            "gridwidth": 2,
            "linecolor": "white",
            "showbackground": true,
            "ticks": "",
            "zerolinecolor": "white"
           },
           "zaxis": {
            "backgroundcolor": "#E5ECF6",
            "gridcolor": "white",
            "gridwidth": 2,
            "linecolor": "white",
            "showbackground": true,
            "ticks": "",
            "zerolinecolor": "white"
           }
          },
          "shapedefaults": {
           "line": {
            "color": "#2a3f5f"
           }
          },
          "ternary": {
           "aaxis": {
            "gridcolor": "white",
            "linecolor": "white",
            "ticks": ""
           },
           "baxis": {
            "gridcolor": "white",
            "linecolor": "white",
            "ticks": ""
           },
           "bgcolor": "#E5ECF6",
           "caxis": {
            "gridcolor": "white",
            "linecolor": "white",
            "ticks": ""
           }
          },
          "title": {
           "x": 0.05
          },
          "xaxis": {
           "automargin": true,
           "gridcolor": "white",
           "linecolor": "white",
           "ticks": "",
           "title": {
            "standoff": 15
           },
           "zerolinecolor": "white",
           "zerolinewidth": 2
          },
          "yaxis": {
           "automargin": true,
           "gridcolor": "white",
           "linecolor": "white",
           "ticks": "",
           "title": {
            "standoff": 15
           },
           "zerolinecolor": "white",
           "zerolinewidth": 2
          }
         }
        },
        "title": {
         "text": "Distribution of Prices for Subaru Outback 2008-2012"
        },
        "xaxis": {
         "anchor": "y",
         "domain": [
          0,
          1
         ],
         "title": {
          "text": "Price (CAD)"
         }
        },
        "yaxis": {
         "anchor": "x",
         "domain": [
          0,
          1
         ],
         "title": {
          "text": "No. of Ads"
         }
        }
       }
      }
     },
     "metadata": {},
     "output_type": "display_data"
    }
   ],
   "source": [
    "# plot the distribution of prices\n",
    "fig = px.histogram(\n",
    "    ads.df.query(\"price < 200_000\"),\n",
    "    x=\"price\",\n",
    "    color=\"source\",\n",
    "    title=f\"Distribution of Prices for {make} {model} {year_range[0]}-{year_range[1]}\",\n",
    ").update_layout(\n",
    "    xaxis_title=\"Price (CAD)\",\n",
    "    yaxis_title=\"No. of Ads\",\n",
    ")\n",
    "fig.show()"
   ]
  }
 ],
 "metadata": {
  "kernelspec": {
   "display_name": "fwhleng",
   "language": "python",
   "name": "python3"
  },
  "language_info": {
   "codemirror_mode": {
    "name": "ipython",
    "version": 3
   },
   "file_extension": ".py",
   "mimetype": "text/x-python",
   "name": "python",
   "nbconvert_exporter": "python",
   "pygments_lexer": "ipython3",
   "version": "3.10.10"
  },
  "orig_nbformat": 4
 },
 "nbformat": 4,
 "nbformat_minor": 2
}
