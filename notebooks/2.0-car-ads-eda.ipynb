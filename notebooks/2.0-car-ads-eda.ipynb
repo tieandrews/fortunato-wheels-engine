{
 "cells": [
  {
   "cell_type": "code",
   "execution_count": null,
   "metadata": {},
   "outputs": [],
   "source": [
    "import os\n",
    "import sys\n",
    "\n",
    "import pandas as pd\n",
    "import datetime as dt\n",
    "import plotly\n",
    "import plotly.express as px\n",
    "import plotly.graph_objects as go\n",
    "import logging\n",
    "import json\n",
    "import gc\n",
    "import requests\n",
    "\n",
    "# used for getting forex exchange rates and not critical to verify SSL\n",
    "requests.packages.urllib3.disable_warnings() \n",
    "\n",
    "cur_dir = os.getcwd()\n",
    "SRC_PATH = cur_dir[: cur_dir.index(\"fortunato-wheels-engine\") + len(\"fortunato-wheels-engine\")]\n",
    "if SRC_PATH not in sys.path:\n",
    "    sys.path.append(SRC_PATH)\n",
    "\n",
    "from src.websites.kijiji import connect_to_database\n",
    "\n",
    "%load_ext autoreload\n",
    "%autoreload 2"
   ]
  },
  {
   "cell_type": "markdown",
   "metadata": {},
   "source": [
    "# Connecting to DB and loading data"
   ]
  },
  {
   "cell_type": "code",
   "execution_count": null,
   "metadata": {},
   "outputs": [],
   "source": [
    "client, db, collection = connect_to_database()"
   ]
  },
  {
   "cell_type": "code",
   "execution_count": null,
   "metadata": {},
   "outputs": [],
   "source": [
    "collection.count_documents({})"
   ]
  },
  {
   "cell_type": "code",
   "execution_count": null,
   "metadata": {},
   "outputs": [],
   "source": [
    "all_ads_raw = pd.DataFrame(collection.find())"
   ]
  },
  {
   "cell_type": "code",
   "execution_count": null,
   "metadata": {},
   "outputs": [],
   "source": [
    "all_ads_raw.info()"
   ]
  },
  {
   "cell_type": "code",
   "execution_count": null,
   "metadata": {},
   "outputs": [],
   "source": [
    "all_ads_raw.describe()"
   ]
  },
  {
   "cell_type": "code",
   "execution_count": null,
   "metadata": {},
   "outputs": [],
   "source": [
    "def preprocess_raw_ad_data(raw_ad_data):\n",
    "\n",
    "    preprocessed_ads = raw_ad_data.assign(\n",
    "        created_date_time = pd.to_datetime(raw_ad_data.created, unit=\"s\", origin=\"unix\"),\n",
    "        modified_date_time = pd.to_datetime(raw_ad_data.modified, unit=\"s\", origin=\"unix\"),\n",
    "        year = raw_ad_data.year.astype(\"Int64\"),\n",
    "    )\n",
    "\n",
    "    preprocessed_ads['age_at_posting'] = preprocessed_ads.created_date_time.dt.year - preprocessed_ads.year\n",
    "\n",
    "    preprocessed_ads[\"mileage_per_year\"] = preprocessed_ads.mileage / preprocessed_ads.age_at_posting\n",
    "    \n",
    "    return preprocessed_ads"
   ]
  },
  {
   "cell_type": "code",
   "execution_count": null,
   "metadata": {},
   "outputs": [],
   "source": [
    "ads = preprocess_raw_ad_data(all_ads_raw)"
   ]
  },
  {
   "cell_type": "code",
   "execution_count": null,
   "metadata": {},
   "outputs": [],
   "source": [
    "ads.info()"
   ]
  },
  {
   "cell_type": "code",
   "execution_count": null,
   "metadata": {},
   "outputs": [],
   "source": [
    "fig = px.histogram(\n",
    "    ads,\n",
    "    x=\"created_date_time\",\n",
    "    # y=\"price\",\n",
    ")\n",
    "fig.show()"
   ]
  },
  {
   "cell_type": "code",
   "execution_count": null,
   "metadata": {},
   "outputs": [],
   "source": [
    "ads.url.tail()"
   ]
  },
  {
   "cell_type": "markdown",
   "metadata": {},
   "source": [
    "# Focussing on Honda CRV and Toyota Rav4"
   ]
  },
  {
   "cell_type": "code",
   "execution_count": null,
   "metadata": {},
   "outputs": [],
   "source": [
    "ads_focus = ads.query(\"((make == 'Toyota') & (model == 'RAV 4')) | ((make == 'Honda') & (model == 'CR-V'))\")"
   ]
  },
  {
   "cell_type": "markdown",
   "metadata": {},
   "source": [
    "Analytical question: What is the difference in price between the two cars?"
   ]
  },
  {
   "cell_type": "code",
   "execution_count": null,
   "metadata": {},
   "outputs": [],
   "source": [
    "fig = px.violin(\n",
    "    ads_focus.query(\"make == 'Toyota'\"), \n",
    "    y=\"price\", \n",
    "    x=\"model\",\n",
    "    color=\"age_at_posting\",  \n",
    "    box=True, \n",
    "    points=\"outliers\", \n",
    "    # hover_data=ads_focus.columns\n",
    "    category_orders={\"age_at_posting\": sorted(ads_focus['age_at_posting'].unique())}\n",
    ")\n",
    "fig.show()"
   ]
  },
  {
   "cell_type": "code",
   "execution_count": null,
   "metadata": {},
   "outputs": [],
   "source": [
    "toyotas = ads_focus.query(\"make == 'Toyota'\")\n",
    "fig = px.scatter(\n",
    "    y=toyotas.price, \n",
    "    x=toyotas.age_at_posting,\n",
    "    trendline=\"lowess\",\n",
    "    color=toyotas.date_time.dt.year.astype(\"float\"),  \n",
    "    color_continuous_scale=\"viridis\"\n",
    ").update_traces(marker=dict(\n",
    "            # color='darkblue',\n",
    "            opacity=0.7,\n",
    "            size=10,\n",
    "            # line=dict(\n",
    "            #     color='MediumPurple',\n",
    "            #     width=2\n",
    "            # )\n",
    "            )\n",
    ")\n",
    "fig.show()"
   ]
  },
  {
   "cell_type": "markdown",
   "metadata": {},
   "source": [
    "# Inspecting Kaggle Data\n",
    "\n",
    "Issue is it doesn't have posting date so don't know age of car when posted with price, not very useful."
   ]
  },
  {
   "cell_type": "code",
   "execution_count": null,
   "metadata": {},
   "outputs": [],
   "source": [
    "raw_kaggle = pd.read_csv(os.path.join(os.pardir, \"data\", \"raw\", \"kaggle-vehicles.csv\"), \n",
    "    parse_dates = [\"posting_date\"]\n",
    ")"
   ]
  },
  {
   "cell_type": "code",
   "execution_count": null,
   "metadata": {},
   "outputs": [],
   "source": [
    "raw_kaggle.info()"
   ]
  },
  {
   "cell_type": "code",
   "execution_count": null,
   "metadata": {},
   "outputs": [],
   "source": [
    "raw_kaggle.posting_date.tail()"
   ]
  },
  {
   "cell_type": "code",
   "execution_count": null,
   "metadata": {},
   "outputs": [],
   "source": [
    "def preprocess_kaggle_data(raw_kaggle_data):\n",
    "\n",
    "    preprocessed_kaggle = raw_kaggle_data.assign(\n",
    "        posting_date = pd.to_datetime(raw_kaggle_data.posting_date, utc=True),\n",
    "    )\n",
    "    \n",
    "    return preprocessed_kaggle"
   ]
  },
  {
   "cell_type": "code",
   "execution_count": null,
   "metadata": {},
   "outputs": [],
   "source": [
    "kaggle = preprocess_kaggle_data(raw_kaggle)"
   ]
  },
  {
   "cell_type": "code",
   "execution_count": null,
   "metadata": {},
   "outputs": [],
   "source": [
    "# plot price vs posting date\n",
    "fig = px.scatter(\n",
    "    kaggle.loc[kaggle.price < 1_000_000],\n",
    "    x=\"posting_date\",\n",
    "    y=\"price\",\n",
    "    color=\"manufacturer\",\n",
    ")\n",
    "fig.show()"
   ]
  },
  {
   "cell_type": "markdown",
   "metadata": {},
   "source": [
    "# Inspecting Car Guru Data"
   ]
  },
  {
   "cell_type": "markdown",
   "metadata": {},
   "source": [
    "## EDA\n",
    "\n",
    "1.  **Formulate your question** - sharp and pointed, figure out if right data to answer\n",
    "    - What is the distribution of prices for Honda CRV and Toyota Rav4 given how old it is when posted for sale?\n",
    "    - What is the distribution of mileage per year for all Rav4/CRV's?\n",
    "    - How old of a used Rav4/CRV can I buy for $20k?\n",
    "    - What features of a Rav4/CRV make it more expensive?\n",
    "2.  **Read in your data**\n",
    "3.  **Check the packaging** - # rows/cols, nulls, dtypes\n",
    "4.  **Look at the top and the bottom of your data**\n",
    "5.  **Check your “n”s** - expected values actually there? Recorded as expected?\n",
    "6.  **Validate with at least one external data source** - check rough alignment against any values\n",
    "7.  **Make a plot** - creates expectations and shows deviation from those\n",
    "8.  **Try the easy solution first & Challenge the Solution** - simplest and if no trends shown challenge assumptions\n",
    "9.  **Follow up Questions** - The right data? Need other data? The right question w/ impact?\n"
   ]
  },
  {
   "cell_type": "code",
   "execution_count": null,
   "metadata": {},
   "outputs": [],
   "source": [
    "raw_carguru = pd.read_csv(os.path.join(os.pardir, \"data\", \"raw\", \"cargurus-vehicle-ads.csv\", ), \n",
    "    parse_dates = [\"listed_date\"],\n",
    "    nrows=50_000\n",
    ")"
   ]
  },
  {
   "cell_type": "code",
   "execution_count": null,
   "metadata": {},
   "outputs": [],
   "source": [
    "print(f\"Number of ads: {raw_carguru.shape[0]}\")\n",
    "print(f\"Number of columns: {raw_carguru.shape[1]}\")"
   ]
  },
  {
   "cell_type": "code",
   "execution_count": null,
   "metadata": {},
   "outputs": [],
   "source": [
    "raw_carguru.info(memory_usage = \"deep\")"
   ]
  },
  {
   "cell_type": "code",
   "execution_count": null,
   "metadata": {},
   "outputs": [],
   "source": [
    "raw_carguru.head()"
   ]
  },
  {
   "cell_type": "code",
   "execution_count": null,
   "metadata": {},
   "outputs": [],
   "source": [
    "raw_carguru.tail()"
   ]
  },
  {
   "cell_type": "code",
   "execution_count": null,
   "metadata": {},
   "outputs": [],
   "source": [
    "fig = px.imshow(\n",
    "    raw_carguru.isnull().T,\n",
    "    title=\"Missing Values in Carguru's Dataset <br><sup>Red indicates a missing value, zoom in as far as you want to see</sup>\",\n",
    "    labels=dict(\n",
    "        variable=\"Column\",\n",
    "        value=\"Missing values\",\n",
    "        color=\"Missing values\"\n",
    "    ),\n",
    "    height = 1400,\n",
    "    color_continuous_scale='OrRd',\n",
    "    binary_compression_level = 9\n",
    ").update_layout(\n",
    "    showlegend=False,\n",
    "    coloraxis_showscale=False\n",
    ")\n",
    "fig.show()"
   ]
  },
  {
   "cell_type": "code",
   "execution_count": null,
   "metadata": {},
   "outputs": [],
   "source": [
    "# calculate percentage of each column that is null\n",
    "print((raw_carguru.isnull().sum() / raw_carguru.shape[0]).sort_values(ascending=False).head(20)*100)"
   ]
  },
  {
   "cell_type": "code",
   "execution_count": null,
   "metadata": {},
   "outputs": [],
   "source": [
    "# plot how many ads there are by the top 30 make_name values\n",
    "fig = px.histogram(\n",
    "    raw_carguru.loc[raw_carguru.make_name.isin(raw_carguru.make_name.value_counts().index[:15])],\n",
    "    x=\"make_name\",\n",
    "    title=\"Number of ads by Make (Top 15)\",\n",
    "    color=\"make_name\",\n",
    "    labels={\"make_name\": \"Make\"    },\n",
    "    color_discrete_sequence=px.colors.qualitative.Dark24,\n",
    "    height=500,\n",
    "    category_orders={\"make_name\": raw_carguru.make_name.value_counts().index[:15]}\n",
    ")\n",
    "fig.show()"
   ]
  },
  {
   "cell_type": "code",
   "execution_count": null,
   "metadata": {},
   "outputs": [],
   "source": [
    "#plot scatter of price and listing_date\n",
    "fig = px.scatter(\n",
    "    raw_carguru,\n",
    "    title=\"Price vs Listing Date\",\n",
    "    x=\"listed_date\",\n",
    "    y=\"price\",\n",
    "    labels = {\n",
    "        \"price\": \"Price ($)\",\n",
    "        \"listed_date\": \"Date Listed\"\n",
    "    },\n",
    "    render_mode='webgl'\n",
    ")\n",
    "fig.show()"
   ]
  },
  {
   "cell_type": "code",
   "execution_count": null,
   "metadata": {},
   "outputs": [],
   "source": [
    "# plot distribution of price\n",
    "fig = px.histogram(\n",
    "    raw_carguru,\n",
    "    x=\"price\",\n",
    "    title=\"Distribution of Price\",\n",
    "    labels={\n",
    "        \"price\": \"Price ($)\",\n",
    "        \"count\": \"Number of Ads\"\n",
    "    }\n",
    ")\n",
    "fig.show()"
   ]
  },
  {
   "cell_type": "code",
   "execution_count": null,
   "metadata": {},
   "outputs": [],
   "source": [
    "# how many car ads are more than 200k?\n",
    "print(f\"Number of cars posted for >$200k: {len(raw_carguru.query('price > 200_000'))} out of {len(raw_carguru)}\")"
   ]
  },
  {
   "cell_type": "code",
   "execution_count": null,
   "metadata": {},
   "outputs": [],
   "source": [
    "# plot distribution of cars with price < 200k\n",
    "fig = px.histogram(\n",
    "    raw_carguru.query(\"price < 200_000\"),\n",
    "    x=\"price\",\n",
    "    title=\"Distribution of Vehicle Prices < $200k\",\n",
    "    labels={\n",
    "        \"price\": \"Price ($)\",\n",
    "        \"count\": \"Number of Ads\"\n",
    "    }\n",
    ")\n",
    "fig.add_vline(\n",
    "    x=raw_carguru.query(\"price < 200_000\").price.median(), \n",
    "    line_dash = 'dash', \n",
    "    line_color = 'firebrick',\n",
    "    annotation_text = f\" Median: ${raw_carguru.query('price < 200_000').price.median():.0f}\",\n",
    ")\n",
    "fig.update_traces(\n",
    "    xbins_size = 500\n",
    ")\n",
    "fig.show()"
   ]
  },
  {
   "cell_type": "code",
   "execution_count": null,
   "metadata": {},
   "outputs": [],
   "source": [
    "raw_carguru[\"age_at_posting\"] = raw_carguru.listed_date.dt.year - raw_carguru.year\n",
    "raw_carguru[\"mileage_per_year\"] = raw_carguru.mileage / raw_carguru.age_at_posting"
   ]
  },
  {
   "cell_type": "code",
   "execution_count": null,
   "metadata": {},
   "outputs": [],
   "source": [
    "# plot distribution of mileage per year\n",
    "fig = px.histogram(\n",
    "    raw_carguru.query(\"(mileage_per_year > 0) & (mileage_per_year < 100_000)\"),\n",
    "    x=\"mileage_per_year\",\n",
    "    title=\"Distribution of Mileage per Year\",\n",
    "    labels={\n",
    "        \"mileage_per_year\": \"Mileage per Year (mi)\",\n",
    "        \"count\": \"Number of Ads\"\n",
    "    }\n",
    ")\n",
    "fig.add_vline(\n",
    "    x=raw_carguru.query(\"(mileage_per_year > 0) & (mileage_per_year < 100_000)\").mileage_per_year.median(), \n",
    "    line_dash = 'dash', \n",
    "    line_color = 'firebrick',\n",
    "    annotation_text = f\" Median: {raw_carguru.query('(mileage_per_year > 0) & (mileage_per_year < 100_000)').mileage_per_year.median():.0f} mi/year\",\n",
    ")\n",
    "fig.show()"
   ]
  },
  {
   "cell_type": "code",
   "execution_count": null,
   "metadata": {},
   "outputs": [],
   "source": [
    "# plot effect of age at posting on price\n",
    "fig = px.scatter(\n",
    "    raw_carguru.query(\"price < 200_000\"),\n",
    "    x=\"age_at_posting\",\n",
    "    y=\"price\",\n",
    "    title=\"Price vs Age at Posting\",\n",
    "    opacity=0.3,\n",
    "    trendline=\"lowess\",\n",
    "    hover_data=[\"make_name\", \"model_name\", \"year\", \"listed_date\"],\n",
    "    labels={\n",
    "        \"price\": \"Price ($)\",\n",
    "        \"age_at_posting\": \"Age at Posting (years)\"\n",
    "    },\n",
    "    render_mode='webgl'\n",
    ")\n",
    "fig.show()"
   ]
  },
  {
   "cell_type": "code",
   "execution_count": null,
   "metadata": {},
   "outputs": [],
   "source": [
    "# figure out what age of car on average costs 20k\n",
    "avg_price_at_age = raw_carguru.groupby(\"age_at_posting\").agg(\n",
    "    mean_price = (\"price\", \"mean\"),\n",
    "    num_vehicles = (\"price\", \"count\")\n",
    ")\n",
    "\n",
    "# get the row with avg price closest to 20k\n",
    "print(\"Question: what age of vehicle might I expect to be able to get for $20k?\\n\")\n",
    "print(f\"The age of vehicles that have average resale prices closest to $20k is {avg_price_at_age.query('(mean_price > 16_000) & (mean_price < 24_000) & (age_at_posting < 15)').index.values} years old\")\n",
    "print(f\"Avg prices and no. of vehicles are: \")\n",
    "print(avg_price_at_age.query('(mean_price > 16_000) & (mean_price < 24_000) & (age_at_posting < 15)'))\n",
    "\n"
   ]
  },
  {
   "cell_type": "code",
   "execution_count": null,
   "metadata": {},
   "outputs": [],
   "source": [
    "# release the raw_ads df\n",
    "del raw_carguru\n",
    "gc.collect()"
   ]
  },
  {
   "cell_type": "markdown",
   "metadata": {},
   "source": [
    "## EDA Conclusions\n",
    "\n",
    "1. A number of fields are missing >50% of there data, proposal to remove these columns\n",
    "   - majority null values (>50%): bed, bed_height, bed_length, combine_fuel_economy, cabin, is_certified, is_cpo, is_oem_cpo, vehicle_damage_category\n",
    "2. Other columns which are likely not informative to our analysis are:\n",
    "   - vin - won't tell us unique info about a car, just a unique identifier\n",
    "   - days on market - not useful as we don't know when the car was scraped\n",
    "   - \n",
    "3. The price of cars shows patterns that majority of prices are around whole thousands of dollars, i.e. 12,000 not 12,500\n",
    "4. The distribution of prices over age has a large spread\n",
    "5. There are a large amount of outliers in the data, i.e. cars that are 20+ years old and have a price of $100,000\n",
    "   - proposal is to ignore/remove these outliers as the analysis is not concerned about unique values but the standard ranges"
   ]
  },
  {
   "cell_type": "markdown",
   "metadata": {},
   "source": [
    "# Analyzing Full Dataset\n",
    "\n",
    "Initially the following columns are going to used for analysis:\n",
    "- price\n",
    "- listed_date\n",
    "- description\n",
    "- year\n",
    "- mileage\n",
    "- horsepower\n",
    "- city\n",
    "- fuel_type\n",
    "- exterior_color"
   ]
  },
  {
   "cell_type": "code",
   "execution_count": null,
   "metadata": {},
   "outputs": [],
   "source": [
    "def load_cargurus_dataset():\n",
    "\n",
    "    cols_to_keep = [\n",
    "        \"make_name\",\n",
    "        \"model_name\",\n",
    "        \"year\",\n",
    "        \"listed_date\",\n",
    "        \"price\",\n",
    "        \"mileage\",\n",
    "        # \"description\", \n",
    "        \"major_options\",\n",
    "        \"seller_rating\",\n",
    "        \"horsepower\",\n",
    "        \"fuel_type\",\n",
    "        \"wheel_system\",\n",
    "        \"price_cad\",\n",
    "        \"price_currency\",\n",
    "        'exchange_rate_usd_to_cad'\n",
    "        \n",
    "    ]\n",
    "\n",
    "    categorical_cols = [\n",
    "        \"make_name\",\n",
    "        \"model_name\",\n",
    "        \"fuel_type\",\n",
    "        \"wheel_system\",\n",
    "    ]\n",
    "\n",
    "    int_cols = [\n",
    "        \"year\",\n",
    "        \"price\",\n",
    "        \"horsepower\",\n",
    "    ]\n",
    "\n",
    "    # raw_df = pd.read_csv(\n",
    "    #     os.path.join(os.pardir, \"data\", \"raw\", \"cargurus-vehicle-ads.csv\"),\n",
    "    #     usecols=cols_to_keep,\n",
    "    #     parse_dates=[\"listed_date\"],\n",
    "    #     low_memory=True,\n",
    "    # )\n",
    "\n",
    "    raw_df = pd.read_parquet(\n",
    "        os.path.join(os.pardir, \"data\", \"processed\", \"processed-carguru-ads.parquet\"),\n",
    "        columns=cols_to_keep\n",
    "    )\n",
    "\n",
    "    for cat_col in categorical_cols:\n",
    "        raw_df[cat_col] = raw_df[cat_col].astype(\"category\")\n",
    "\n",
    "    for int_col in int_cols:\n",
    "        raw_df[int_col].fillna(-10, inplace=True)\n",
    "        raw_df[int_col] = raw_df[int_col].astype(\"int32\")\n",
    "\n",
    "    return raw_df"
   ]
  },
  {
   "cell_type": "code",
   "execution_count": null,
   "metadata": {},
   "outputs": [],
   "source": [
    "raw_ads = load_cargurus_dataset()"
   ]
  },
  {
   "cell_type": "code",
   "execution_count": null,
   "metadata": {},
   "outputs": [],
   "source": [
    "# del raw_ads\n",
    "# gc.collect()"
   ]
  },
  {
   "cell_type": "code",
   "execution_count": null,
   "metadata": {},
   "outputs": [],
   "source": [
    "raw_ads.info(memory_usage=\"deep\")"
   ]
  },
  {
   "cell_type": "code",
   "execution_count": null,
   "metadata": {},
   "outputs": [],
   "source": [
    "def preprocess_carguru_ads(raw_ads):\n",
    "\n",
    "    processed_ads = raw_ads.copy(deep=True)\n",
    "\n",
    "    processed_ads = processed_ads.rename(\n",
    "        columns={\n",
    "            # old name : new name\n",
    "            \"price\" : \"price_usd\", \n",
    "            \"price_cad\": \"price\",\n",
    "            \"make_name\": \"make\",\n",
    "            \"model_name\": \"model\"\n",
    "        },\n",
    "    )\n",
    "\n",
    "    processed_ads[\"age_at_posting\"] = (processed_ads.listed_date.dt.year - processed_ads.year).astype(\"int8\")\n",
    "    processed_ads[\"mileage_per_year\"] = (processed_ads.mileage / processed_ads.age_at_posting).round(0)    \n",
    "\n",
    "    # remove ads with prices > 500_000\n",
    "    processed_ads = processed_ads.query(\"price < 500_000\")\n",
    "\n",
    "    # processed_ads[\"major_options\"] = processed_ads.major_options.str.split(\",\").apply(lambda x: [opt.strip() for opt in x])\n",
    "\n",
    "    return processed_ads"
   ]
  },
  {
   "cell_type": "code",
   "execution_count": null,
   "metadata": {},
   "outputs": [],
   "source": [
    "ads = preprocess_carguru_ads(raw_ads)"
   ]
  },
  {
   "cell_type": "code",
   "execution_count": null,
   "metadata": {},
   "outputs": [],
   "source": [
    "ads.head()"
   ]
  },
  {
   "cell_type": "code",
   "execution_count": null,
   "metadata": {},
   "outputs": [],
   "source": [
    "def get_usd_to_cad_exchange(date):\n",
    "\n",
    "    # check date is valid date object\n",
    "    if not isinstance(date, dt.date):\n",
    "        raise TypeError(\"date must be a datetime.date object\")\n",
    "\n",
    "    date_string = date.strftime(\"%Y-%m-%d\")\n",
    "    resp = requests.get(f\"https://theforexapi.com/api/{date_string}/?symbols=CAD&base=USD\", verify=False).json()\n",
    "\n",
    "    return resp[\"rates\"][\"CAD\"]"
   ]
  },
  {
   "cell_type": "code",
   "execution_count": null,
   "metadata": {},
   "outputs": [],
   "source": [
    "# # for every unique date of listed_date get the exchange rate and convert to USD\n",
    "# for d in ads.listed_date.dt.date.unique():\n",
    "#     ads.loc[ads.listed_date.dt.date == d, \"exchange_rate_usd_to_cad\"] = get_usd_to_cad_exchange(d)"
   ]
  },
  {
   "cell_type": "code",
   "execution_count": null,
   "metadata": {},
   "outputs": [],
   "source": [
    "# ads[\"price_cad\"] = (ads.price * ads.exchange_rate_usd_to_cad).round(0).astype(\"int32\")\n",
    "# ads[\"price_currency\"] = \"CAD\""
   ]
  },
  {
   "cell_type": "code",
   "execution_count": null,
   "metadata": {},
   "outputs": [],
   "source": [
    "# save ads to parquet file in data/processed\n",
    "# ads.to_parquet(os.path.join(os.pardir, \"data\", \"processed\", \"processed-carguru-ads.parq\"))"
   ]
  },
  {
   "cell_type": "code",
   "execution_count": null,
   "metadata": {},
   "outputs": [],
   "source": [
    "ads.info(memory_usage=\"deep\")"
   ]
  },
  {
   "cell_type": "code",
   "execution_count": null,
   "metadata": {},
   "outputs": [],
   "source": [
    "# plot how many ads there are by the top 30 make_name values\n",
    "fig = px.histogram(\n",
    "    # ads.loc[ads.make_name.isin(ads.make_name.value_counts().index[:15])],\n",
    "    ads.loc[ads.make.isin(ads.make.value_counts().index[:15])].make.cat.remove_unused_categories(),\n",
    "    x=\"make\",\n",
    "    title=\"Number of ads by Make (Top 15)\",\n",
    "    color=\"make\",\n",
    "    labels={\"make\": \"Make\"},\n",
    "    color_discrete_sequence=px.colors.qualitative.Dark24,\n",
    "    height=500,\n",
    "    category_orders={\"make\": ads.make.value_counts().index[:15]}\n",
    ")\n",
    "fig.show()"
   ]
  },
  {
   "cell_type": "code",
   "execution_count": null,
   "metadata": {},
   "outputs": [],
   "source": [
    "# plot distribution of cars with price < 200k\n",
    "fig = px.histogram(\n",
    "    ads.query(\"price < 200_000\"),\n",
    "    x=\"price\",\n",
    "    title=\"Distribution of Vehicle Prices < $200k\",\n",
    "    labels={\n",
    "        \"price\": \"Price ($)\",\n",
    "        \"count\": \"Number of Ads\"\n",
    "    }\n",
    ")\n",
    "fig.add_vline(\n",
    "    x=ads.query(\"price < 200_000\").price.median(), \n",
    "    line_dash = 'dash', \n",
    "    line_color = 'firebrick',\n",
    "    annotation_text = f\" Median: ${ads.query('price < 200_000').price.median():.0f}\",\n",
    ")\n",
    "fig.update_traces(\n",
    "    xbins_size = 500\n",
    ")\n",
    "fig.show()"
   ]
  },
  {
   "cell_type": "code",
   "execution_count": null,
   "metadata": {},
   "outputs": [],
   "source": [
    "# plot distribution of mileage per year\n",
    "fig = px.histogram(\n",
    "    ads.query(\"(mileage_per_year > 0) & (mileage_per_year < 100_000)\"),\n",
    "    x=\"mileage_per_year\",\n",
    "    title=\"Distribution of Mileage per Year\",\n",
    "    labels={\n",
    "        \"mileage_per_year\": \"Mileage per Year (mi)\",\n",
    "        \"count\": \"Number of Ads\"\n",
    "    },\n",
    "    # change bin width to 500\n",
    "    nbins=200,\n",
    ")\n",
    "fig.add_vline(\n",
    "    x=ads.query(\"(mileage_per_year > 0) & (mileage_per_year < 100_000)\").mileage_per_year.median(), \n",
    "    line_dash = 'dash', \n",
    "    line_color = 'firebrick',\n",
    "    annotation_text = f\" Median: {ads.query('(mileage_per_year > 0) & (mileage_per_year < 100_000)').mileage_per_year.median():.0f} mi/year\",\n",
    ")\n",
    "fig.show()"
   ]
  },
  {
   "cell_type": "code",
   "execution_count": null,
   "metadata": {},
   "outputs": [],
   "source": [
    "# groupby age at posting and calculate median price and 95/5 quantiles\n",
    "agg_ads = ads.groupby(\"age_at_posting\", as_index=False).agg(\n",
    "    median_price=(\"price\", \"median\"),\n",
    "    price_95 = (\"price\", lambda x: x.quantile(0.95)),\n",
    "    price_05 = (\"price\", lambda x: x.quantile(0.05)),\n",
    ").query(\"(price_95 < 200_000) & (age_at_posting < 25)\")\n",
    "\n",
    "fig = go.Figure([\n",
    "    go.Scatter(\n",
    "        name='Median Price',\n",
    "        x=agg_ads.age_at_posting,\n",
    "        y=agg_ads.median_price,\n",
    "        mode='lines',\n",
    "        line=dict(color='rgb(31, 119, 180)'),\n",
    "    ),\n",
    "    go.Scatter(\n",
    "        name='Upper 95%',\n",
    "        x=agg_ads.age_at_posting,\n",
    "        y=agg_ads.price_95,\n",
    "        mode='lines',\n",
    "        marker=dict(color=\"#444\"),\n",
    "        line=dict(width=0),\n",
    "        showlegend=False\n",
    "    ),\n",
    "    go.Scatter(\n",
    "        name='Lower 5%',\n",
    "        x=agg_ads.age_at_posting,\n",
    "        y=agg_ads.price_05,\n",
    "        marker=dict(color=\"#444\"),\n",
    "        line=dict(width=0),\n",
    "        mode='lines',\n",
    "        fillcolor='rgba(68, 68, 68, 0.3)',\n",
    "        fill='tonexty',\n",
    "        showlegend=False\n",
    "    )\n",
    "])\n",
    "fig.update_layout(\n",
    "    yaxis_title='Price (CAD)',\n",
    "    title='Car Price by Age at Posting',\n",
    "    hovermode=\"x\",\n",
    "    xaxis_range=[0,20]\n",
    ")\n",
    "fig.show()"
   ]
  },
  {
   "cell_type": "code",
   "execution_count": null,
   "metadata": {},
   "outputs": [],
   "source": [
    "def plot_price_distribution_by_age(ads_df, makes, models, display=True):\n",
    "\n",
    "    # for each value in make/model combo, plot the price distribution\n",
    "    color_map = [\n",
    "        \"rgba(31, 119, 180)\",\n",
    "        \"rgba(255, 127, 14)\",\n",
    "        \"rgba(44, 160, 44)\",\n",
    "        \"rgba(214, 39, 40)\",\n",
    "    ]\n",
    "    num_ads = 0\n",
    "\n",
    "    fig = go.Figure()\n",
    "    for i in range(len(makes)):\n",
    "\n",
    "        rgb_color = color_map[i]\n",
    "\n",
    "        make = makes[i]\n",
    "        model = models[i]\n",
    "        # groupby age at posting and calculate median price and 95/5 quantiles\n",
    "        agg_ads = ads_df.query(\"make == @make & model == @model\").groupby(\"age_at_posting\", as_index=False).agg(\n",
    "            median_price=(\"price\", \"median\"),\n",
    "            price_95 = (\"price\", lambda x: x.quantile(0.95)),\n",
    "            price_05 = (\"price\", lambda x: x.quantile(0.05)),\n",
    "        ).query(\"(price_95 < 200_000) & (age_at_posting < 25)\")\n",
    "\n",
    "        num_ads += len(ads_df.query(\"make == @make & model == @model\"))\n",
    "\n",
    "        # add line trace for median price\n",
    "        fig.add_trace(\n",
    "            go.Scatter(\n",
    "                name=f\"{make} {model} Median Price\",\n",
    "                x=agg_ads.age_at_posting,\n",
    "                y=agg_ads.median_price,\n",
    "                mode='lines',\n",
    "                line=dict(color=rgb_color.replace(\"a\", \"\")),\n",
    "            )\n",
    "        )\n",
    "\n",
    "        # add line trace for 95th percentile\n",
    "        fig.add_trace(\n",
    "            go.Scatter(\n",
    "                name=f\"{make} {model} Upper 95%\",\n",
    "                x=agg_ads.age_at_posting,\n",
    "                y=agg_ads.price_95,\n",
    "                mode='lines',\n",
    "                marker=dict(color=\"#444\"),\n",
    "                line=dict(width=0),\n",
    "                showlegend=False\n",
    "            )\n",
    "        )\n",
    "\n",
    "        # add line trace for 5th percentile\n",
    "        fig.add_trace(\n",
    "            go.Scatter(\n",
    "                name=f\"{make} {model} Lower 5%\",\n",
    "                x=agg_ads.age_at_posting,\n",
    "                y=agg_ads.price_05,\n",
    "                mode='lines',\n",
    "                line=dict(width=0),\n",
    "                fillcolor=rgb_color.replace(\")\", \", 0.3)\"),\n",
    "                fill='tonexty',\n",
    "                marker=dict(color=\"#444\"),\n",
    "                showlegend=False\n",
    "            )\n",
    "        )\n",
    "\n",
    "    \n",
    "    fig.update_layout(\n",
    "        yaxis_title='Price (CAD)',\n",
    "        xaxis_title='Age at Posting (years)',\n",
    "        title=f'Car Price by Age of Vehicle for: {\", \".join([f\"{ma} {m}\" for ma, m in zip(makes, models)])}<br><sup>From {num_ads} Ads</sup>',\n",
    "        hovermode=\"x\",\n",
    "        xaxis_range=[0,20]\n",
    "    )\n",
    "    \n",
    "    if display is True:\n",
    "        fig.show()\n",
    "    else:\n",
    "        return fig"
   ]
  },
  {
   "cell_type": "code",
   "execution_count": null,
   "metadata": {},
   "outputs": [],
   "source": [
    "def plot_price_depreciation_by_age(ads_df, makes, models, display=True):\n",
    "\n",
    "    # for each value in make/model combo, plot the price distribution\n",
    "    color_map = [\n",
    "        \"rgba(31, 119, 180)\",\n",
    "        \"rgba(255, 127, 14)\",\n",
    "        \"rgba(44, 160, 44)\",\n",
    "        \"rgba(214, 39, 40)\",\n",
    "    ]\n",
    "    num_ads = 0\n",
    "\n",
    "    fig = go.Figure()\n",
    "    for i in range(len(makes)):\n",
    "\n",
    "        rgb_color = color_map[i]\n",
    "\n",
    "        make = makes[i]\n",
    "        model = models[i]\n",
    "        # groupby age at posting and calculate median price and 95/5 quantiles\n",
    "        agg_ads = ads_df.query(\"make == @make & model == @model\").groupby(\"age_at_posting\", as_index=False).agg(\n",
    "            median_price=(\"price\", \"median\"),\n",
    "            # price_95 = (\"price_cad\", lambda x: x.quantile(0.95)),\n",
    "            # price_05 = (\"price_cad\", lambda x: x.quantile(0.05)),\n",
    "        ).query(\"(age_at_posting < 25)\") #(price_95 < 200_000) & \n",
    "\n",
    "        agg_ads[\"price_drop\"] = agg_ads.median_price.diff(1).fillna(0) * -1\n",
    "\n",
    "        num_ads += len(ads_df.query(\"make == @make & model == @model\"))\n",
    "\n",
    "        # add line trace for median price\n",
    "        fig.add_trace(\n",
    "            go.Scatter(\n",
    "                name=f\"{make} {model} Median Price\",\n",
    "                x=agg_ads.age_at_posting,\n",
    "                y=agg_ads.price_drop,\n",
    "                mode='lines',\n",
    "                line=dict(color=rgb_color.replace(\"a\", \"\")),\n",
    "            )\n",
    "        )\n",
    "    \n",
    "    fig.update_layout(\n",
    "        yaxis_title='Price Decrease ($CAD)',\n",
    "        xaxis_title='Age at Posting (years)',\n",
    "        title=f'Car Depreciation Rates for: {\", \".join([f\"{ma} {m}\" for ma, m in zip(makes, models)])}<br><sup>From {num_ads} Ads</sup>',\n",
    "        hovermode=\"x\",\n",
    "        xaxis_range=[1,20],\n",
    "        yaxis_range=[0,None]\n",
    "    )\n",
    "    \n",
    "    if display is True:\n",
    "        fig.show()\n",
    "    else:\n",
    "        return fig"
   ]
  },
  {
   "cell_type": "code",
   "execution_count": null,
   "metadata": {},
   "outputs": [],
   "source": [
    "ads.query(\"make == 'Toyota'\").model.unique()"
   ]
  },
  {
   "cell_type": "code",
   "execution_count": null,
   "metadata": {},
   "outputs": [],
   "source": [
    "makes = [\"Subaru\", \"Toyota\", \"Honda\"] \n",
    "models = [ \"Outback\", \"RAV4\", \"CR-V\"]"
   ]
  },
  {
   "cell_type": "code",
   "execution_count": null,
   "metadata": {},
   "outputs": [],
   "source": [
    "plot_price_distribution_by_age(ads, makes, models)\n",
    "plot_price_depreciation_by_age(ads, makes, models)"
   ]
  },
  {
   "cell_type": "code",
   "execution_count": null,
   "metadata": {},
   "outputs": [],
   "source": [
    "ads.query(\"make == 'Subaru' & model == 'Outback'\").model.count()"
   ]
  },
  {
   "cell_type": "markdown",
   "metadata": {},
   "source": [
    "# Combine Carguru & Kijiji Data"
   ]
  },
  {
   "cell_type": "code",
   "execution_count": null,
   "metadata": {},
   "outputs": [],
   "source": [
    "import src.data.cargurus as cargurus"
   ]
  },
  {
   "cell_type": "code",
   "execution_count": null,
   "metadata": {},
   "outputs": [],
   "source": [
    "cargurus.preprocess_raw_cargurus_data(nrows = 1000, export = False)"
   ]
  },
  {
   "cell_type": "code",
   "execution_count": null,
   "metadata": {},
   "outputs": [],
   "source": []
  }
 ],
 "metadata": {
  "kernelspec": {
   "display_name": "Python 3.10.9 ('fwhleng')",
   "language": "python",
   "name": "python3"
  },
  "language_info": {
   "codemirror_mode": {
    "name": "ipython",
    "version": 3
   },
   "file_extension": ".py",
   "mimetype": "text/x-python",
   "name": "python",
   "nbconvert_exporter": "python",
   "pygments_lexer": "ipython3",
   "version": "3.10.9"
  },
  "orig_nbformat": 4,
  "vscode": {
   "interpreter": {
    "hash": "ef3b2fd4ca8766ea5a25df4f99c28bc55f7f21963f7ba7f8512d2f4c9a470227"
   }
  }
 },
 "nbformat": 4,
 "nbformat_minor": 2
}
