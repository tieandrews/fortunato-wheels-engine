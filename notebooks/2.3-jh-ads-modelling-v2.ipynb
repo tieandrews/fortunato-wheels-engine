{
 "cells": [
  {
   "cell_type": "markdown",
   "metadata": {},
   "source": [
    "# Car Price Modelling & Analysis\n",
    "\n",
    "Building on the inital round of training and model exploration, this notebook will focus on improving the MAPE and RMSE scores of the model. XGBoost will still be utilized but MAPE will be prioritized over RMSE and the 'options_list' feature will be added to the model."
   ]
  },
  {
   "cell_type": "code",
   "execution_count": null,
   "metadata": {},
   "outputs": [],
   "source": [
    "import os, sys\n",
    "\n",
    "import pandas as pd\n",
    "import numpy as np\n",
    "import json\n",
    "import plotly.express as px\n",
    "import plotly.graph_objs as go\n",
    "from plotly.subplots import make_subplots\n",
    "import plotly.io as pio\n",
    "import mlflow\n",
    "from mlflow.models.signature import infer_signature\n",
    "from dotenv import load_dotenv, find_dotenv\n",
    "import seaborn as sns\n",
    "import matplotlib.pyplot as plt\n",
    "import pickle\n",
    "from hyperopt import fmin, tpe, hp, SparkTrials, STATUS_OK, Trials\n",
    "\n",
    "from sklearn.model_selection import train_test_split\n",
    "from sklearn.pipeline import Pipeline\n",
    "from sklearn.preprocessing import OneHotEncoder, StandardScaler, MultiLabelBinarizer\n",
    "from sklearn.metrics import mean_squared_error, r2_score\n",
    "from sklearn.compose import ColumnTransformer\n",
    "from sklearn.model_selection import cross_validate, cross_val_score\n",
    "from xgboost import XGBRegressor\n",
    "from sklearn.ensemble import GradientBoostingRegressor\n",
    "\n",
    "cur_dir = os.getcwd()\n",
    "SRC_PATH = cur_dir[: cur_dir.index(\"fortunato-wheels-engine\") + len(\"fortunato-wheels-engine\")]\n",
    "if SRC_PATH not in sys.path:\n",
    "    sys.path.append(SRC_PATH)\n",
    "\n",
    "from src.data.car_ads import CarAds\n",
    "from src.logs import get_logger\n",
    "from src.data.training_preprocessing import preprocess_ads_for_training\n",
    "from src.training.custom_components import MultiHotEncoder\n",
    "\n",
    "# set AZUREML_ARTIFACTS_DEFAULT_TIMEOUT to 900 seconds\n",
    "os.environ[\"AZUREML_ARTIFACTS_DEFAULT_TIMEOUT\"] = \"900\"\n",
    "\n",
    "load_dotenv(find_dotenv())\n",
    "\n",
    "logger = get_logger(__name__)\n",
    "\n",
    "AZURE_MLFLOW_URI = os.environ.get(\"AZURE_MLFLOW_URI\")\n",
    "mlflow.set_tracking_uri(AZURE_MLFLOW_URI)\n",
    "\n",
    "sns.set_theme(style=\"whitegrid\")\n",
    "sns.set(rc={\"figure.figsize\": (8, 12)})\n",
    "# set context to notebook\n",
    "sns.set_context(\"notebook\", font_scale=1.5, rc={\"lines.linewidth\": 2.5})\n",
    "plt.rcParams[\"font.family\"] = \"sans serif\"\n",
    "\n",
    "%load_ext autoreload\n",
    "%autoreload 2"
   ]
  },
  {
   "cell_type": "markdown",
   "metadata": {},
   "source": [
    "## Load in current car adds"
   ]
  },
  {
   "cell_type": "code",
   "execution_count": null,
   "metadata": {},
   "outputs": [],
   "source": [
    "ads = CarAds()\n",
    "ads.get_car_ads(data_dump=os.path.join(SRC_PATH, \"data\", \"processed\", \"car-ads-dump_2023-07-18.csv\"))\n",
    "# ads.get_car_ads()"
   ]
  },
  {
   "cell_type": "code",
   "execution_count": null,
   "metadata": {},
   "outputs": [],
   "source": [
    "# inital preprocessing\n",
    "ads.preprocess_ads()"
   ]
  },
  {
   "cell_type": "code",
   "execution_count": null,
   "metadata": {},
   "outputs": [],
   "source": [
    "# select model features and split into train and test sets\n",
    "\n",
    "model_features = [\n",
    "    \"age_at_posting\",\n",
    "    \"mileage_per_year\",\n",
    "    \"make\",\n",
    "    \"model\",\n",
    "    \"price\",\n",
    "    \"wheel_system\",\n",
    "    \"options_list\"\n",
    "]\n",
    "\n",
    "\n",
    "# preprocess ads for training\n",
    "preprocessed_ads = preprocess_ads_for_training(\n",
    "    ads.df,\n",
    "    model_features=model_features, \n",
    "    exclude_new_vehicle_ads=True\n",
    ")\n",
    "\n",
    "train_df, test_df = train_test_split(\n",
    "    preprocessed_ads,\n",
    "    test_size=0.2,\n",
    "    random_state=42,\n",
    "    stratify=preprocessed_ads[\"model\"],\n",
    ")\n",
    "\n",
    "# with features selected drop all with null values\n",
    "train_df = train_df[model_features].dropna().reset_index(drop=True)\n",
    "test_df = test_df[model_features].dropna().reset_index(drop=True)\n",
    "\n",
    "X_train = train_df.drop(columns=[\"price\"])\n",
    "y_train = train_df[\"price\"]\n",
    "X_test = test_df.drop(columns=[\"price\"])\n",
    "y_test = test_df[\"price\"]"
   ]
  },
  {
   "cell_type": "code",
   "execution_count": null,
   "metadata": {},
   "outputs": [],
   "source": [
    "train_df.info()"
   ]
  },
  {
   "cell_type": "code",
   "execution_count": null,
   "metadata": {},
   "outputs": [],
   "source": [
    "train_df.head()"
   ]
  },
  {
   "cell_type": "code",
   "execution_count": null,
   "metadata": {},
   "outputs": [],
   "source": [
    "numeric_features = [\"age_at_posting\", \"mileage_per_year\"]\n",
    "\n",
    "categorical_features = [\"model\", \"wheel_system\", \"make\"] \n",
    "\n",
    "multi_label_features = [\"options_list\"]\n",
    "\n",
    "# make column transformer\n",
    "preprocessor = ColumnTransformer(\n",
    "    transformers=[\n",
    "        (\"num\", StandardScaler(), numeric_features),\n",
    "        (\"cat\", OneHotEncoder(handle_unknown=\"ignore\"), categorical_features),\n",
    "        (\"multi\", MultiHotEncoder(), multi_label_features)\n",
    "    ]\n",
    ")"
   ]
  },
  {
   "cell_type": "code",
   "execution_count": null,
   "metadata": {},
   "outputs": [],
   "source": [
    "preprocessor.fit_transform(X_train[:10]).shape"
   ]
  },
  {
   "cell_type": "code",
   "execution_count": null,
   "metadata": {},
   "outputs": [],
   "source": [
    "mlb = MultiLabelBinarizer()\n",
    "\n",
    "mlb.fit_transform(X_train['options_list'][:10])\n"
   ]
  },
  {
   "cell_type": "code",
   "execution_count": null,
   "metadata": {},
   "outputs": [],
   "source": [
    "mlb.classes_"
   ]
  },
  {
   "cell_type": "code",
   "execution_count": null,
   "metadata": {},
   "outputs": [],
   "source": [
    "mhe = MultiHotEncoder()\n",
    "\n",
    "mhe.fit_transform(pd.DataFrame(X_train['options_list'][:10]))\n"
   ]
  },
  {
   "cell_type": "code",
   "execution_count": null,
   "metadata": {},
   "outputs": [],
   "source": [
    "mhe.get_feature_names_out()"
   ]
  },
  {
   "cell_type": "code",
   "execution_count": null,
   "metadata": {},
   "outputs": [],
   "source": [
    "# from sklearn.pipeline import make_pipeline\n",
    "\n",
    "# metrics = [\"neg_mean_absolute_percentage_error\",\"neg_root_mean_squared_error\", \"r2\"]\n",
    "# # metrics = [\"neg_mean_absolute_percentage_error\"]\n",
    "\n",
    "# gbr_pipe = make_pipeline(\n",
    "#     preprocessor,\n",
    "#     GradientBoostingRegressor(\n",
    "#         random_state=123\n",
    "#     )\n",
    "# )\n",
    "\n",
    "# model_cv_results = pd.DataFrame(cross_validate(\n",
    "#         gbr_pipe,\n",
    "#         X_train[:100],\n",
    "#         y_train[:100],\n",
    "#         cv=5,\n",
    "#         scoring=metrics,\n",
    "#         return_train_score=True,\n",
    "#         n_jobs=-1,\n",
    "#     )).agg([\"mean\", \"std\"]).T\n",
    "\n",
    "# model_cv_results"
   ]
  },
  {
   "cell_type": "markdown",
   "metadata": {},
   "source": [
    "## Setting up Hyperopt\n"
   ]
  },
  {
   "cell_type": "code",
   "execution_count": null,
   "metadata": {},
   "outputs": [],
   "source": [
    "# first metric is the one to minimize\n",
    "metrics = [\"neg_mean_absolute_percentage_error\",\"neg_root_mean_squared_error\", \"r2\"]\n",
    "\n",
    "def objective(params):\n",
    "    classifier_type = params['type']\n",
    "    del params['type']\n",
    "    if classifier_type == 'gradient_boosting':\n",
    "        clf = GradientBoostingRegressor(**params)\n",
    "    elif classifier_type == 'xgboost':\n",
    "        clf = XGBRegressor(**params)\n",
    "    else:\n",
    "        return 0\n",
    "\n",
    "    pipe = Pipeline(\n",
    "        steps=[\n",
    "            (\"preprocessor\", preprocessor),\n",
    "            (\"regressor\", clf),\n",
    "        ]\n",
    "    )\n",
    "    # start mlflow run for training timing tracking\n",
    "    with mlflow.start_run():\n",
    "\n",
    "        # manually run cross_validate and get train/test rmse, mape, and r2\n",
    "        model_cv_results = pd.DataFrame(cross_validate(\n",
    "            pipe,\n",
    "            X_train,\n",
    "            y_train,\n",
    "            cv=5,\n",
    "            scoring=metrics,\n",
    "            return_train_score=True,\n",
    "            n_jobs=-1,\n",
    "        )).agg([\"mean\", \"std\"]).T\n",
    "\n",
    "\n",
    "        # log metrics to mlflow\n",
    "        # log train and test for each metric\n",
    "        for m in metrics:\n",
    "            mlflow.log_metric(f\"{m}_train_mean\", model_cv_results.loc[f\"train_{m}\"][\"mean\"])\n",
    "            mlflow.log_metric(f\"{m}_test_mean\", model_cv_results.loc[f\"test_{m}\"][\"mean\"])\n",
    "            mlflow.log_metric(f\"{m}_train_std\", model_cv_results.loc[f\"train_{m}\"][\"std\"])\n",
    "            mlflow.log_metric(f\"{m}_test_std\", model_cv_results.loc[f\"test_{m}\"][\"std\"])\n",
    "\n",
    "        # log params\n",
    "        mlflow.log_params(params)\n",
    "        # log the type of model\n",
    "        mlflow.log_param(\"model_type\", classifier_type)\n",
    "\n",
    "        fit_model = pipe.fit(X_train, y_train)\n",
    "\n",
    "        # log model\n",
    "        mlflow.sklearn.log_model(fit_model, \"model\", signature=infer_signature(X_train, y_train))\n",
    "\n",
    "    # make negative mape positive so it minimizes it\n",
    "    result = { 'loss': -model_cv_results.loc[\"test_\" + metrics[0]][\"mean\"], 'status': STATUS_OK}\n",
    "\n",
    "    return result"
   ]
  },
  {
   "attachments": {},
   "cell_type": "markdown",
   "metadata": {},
   "source": [
    "## Gradient Boosting Regressor Modelling"
   ]
  },
  {
   "cell_type": "code",
   "execution_count": null,
   "metadata": {},
   "outputs": [],
   "source": [
    "search_space = hp.choice('classifier_type', [\n",
    "    {\n",
    "        'type': 'gradient_boosting',\n",
    "        'max_features': hp.choice('max_features', ['sqrt', 'log2']),\n",
    "        'max_depth': hp.uniformint('max_depth', 15, 30),\n",
    "        'min_samples_split': hp.uniformint('dtree_min_samples_split', 20, 40),\n",
    "        'n_estimators': hp.uniformint('n_estimators', 150, 300),\n",
    "    }\n",
    "])"
   ]
  },
  {
   "cell_type": "code",
   "execution_count": null,
   "metadata": {},
   "outputs": [],
   "source": [
    "# X_train.head()"
   ]
  },
  {
   "cell_type": "code",
   "execution_count": null,
   "metadata": {},
   "outputs": [],
   "source": [
    "mlflow.set_experiment(\"price-prediction-v3\")\n",
    "mlflow.sklearn.autolog(disable=True)\n",
    "\n",
    "search_algorithm = tpe.suggest\n",
    "\n",
    "best_hyperparams = fmin(\n",
    "fn=objective, \n",
    "space=search_space,\n",
    "algo=search_algorithm,\n",
    "max_evals=20,\n",
    "trials= Trials())"
   ]
  },
  {
   "attachments": {},
   "cell_type": "markdown",
   "metadata": {},
   "source": [
    "## XGBoost Model Training"
   ]
  },
  {
   "cell_type": "code",
   "execution_count": null,
   "metadata": {},
   "outputs": [],
   "source": [
    "search_space = hp.choice('classifier_type', [\n",
    "    {\n",
    "        'type': 'xgboost',\n",
    "        'max_depth': hp.uniformint('max_depth', 15, 35),\n",
    "        'min_child_weight': hp.uniformint('min_child_weight', 0, 10),\n",
    "        'subsample': hp.uniform('subsample', 0.5, 1),\n",
    "        'n_estimators': hp.uniformint('n_estimators', 150, 300),\n",
    "        'learning_rate': hp.uniform('learning_rate', 0.01, 0.2),\n",
    "        'gamma': hp.uniform('gamma', 0, 9),\n",
    "    }\n",
    "])"
   ]
  },
  {
   "cell_type": "code",
   "execution_count": null,
   "metadata": {},
   "outputs": [],
   "source": [
    "mlflow.set_experiment(\"price-prediction-v3\")\n",
    "mlflow.sklearn.autolog(disable=True)\n",
    "\n",
    "search_algorithm = tpe.suggest\n",
    "\n",
    "best_hyperparams = fmin(\n",
    "fn=objective, \n",
    "space=search_space,\n",
    "algo=search_algorithm,\n",
    "max_evals=50,\n",
    "trials= Trials())"
   ]
  },
  {
   "cell_type": "code",
   "execution_count": null,
   "metadata": {},
   "outputs": [],
   "source": []
  }
 ],
 "metadata": {
  "kernelspec": {
   "display_name": "fwhleng",
   "language": "python",
   "name": "python3"
  },
  "language_info": {
   "codemirror_mode": {
    "name": "ipython",
    "version": 3
   },
   "file_extension": ".py",
   "mimetype": "text/x-python",
   "name": "python",
   "nbconvert_exporter": "python",
   "pygments_lexer": "ipython3",
   "version": "3.10.10"
  },
  "orig_nbformat": 4
 },
 "nbformat": 4,
 "nbformat_minor": 2
}
