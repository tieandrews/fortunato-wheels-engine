{
 "cells": [
  {
   "attachments": {},
   "cell_type": "markdown",
   "metadata": {},
   "source": [
    "# Car Price Modelling & Analysis\n",
    "\n",
    "This notebook contains the initial exploration of modelling approaches to tackle the following challenges:\n",
    "\n",
    "1. A user is looking for a specific make/model of car and wants to know how much it might cost.\n",
    "2. A user is looking for a specific type of car and wondering what makes/models fit within that range (e.g. SUV, mini-van, truck)\n",
    "\n",
    "The results should be easily interpretable by users. Expected user flow is as follows:\n",
    "\n",
    "1. User is looking for make/model\n",
    "   1. User comes to the site\n",
    "   2. Selects type of vehicle they're looking for\n",
    "      - From: SUV, Truck, Van, Sedan, Sports Car\n",
    "   3. After that they can select a make/model if they want but is optional and will show info for average price by make and/or model (?)\n",
    "   4. They can put in a desired age of vehicle in years as well as desired mileage range but is optional.\n",
    "   5. With the inputs entered the following cases are displayed:\n",
    "       - Just type of vehicle: a break down by make is shown with price by age of vehicle\n",
    "       - Type of vehicle and make: a break down by model of vehicle price and age of vehicle\n",
    "       - Type/make/model: details on price by age as well as mileage\n",
    "       - Type/budget price: find for all makes and models the age that is closest to the budget amount how to optimize for both age and mileage? Have milage per year perhaps?\n",
    "         - Possibly leave out mileage and include the average mileapge per year plus conf. interval to say this age with ~ X-Y km's?\n",
    "\n",
    "## Modelling Approach\n",
    "\n",
    "First we need to group makes/models into vehicle types SUV, Truck, Sedan, etc. A hash table mapping make/model to vehicle type must be created. \n",
    "\n",
    "### Baseline\n",
    "\n",
    "A OLS linear regression model for each vehicle using age in years and mileage will be used to predict the price for all vehicles. \n",
    "\n",
    "### Linear Mixed Effects Modelling of Price\n",
    "\n",
    "To improve the model and meet the above expectations, a linear mixed effects model will be used. It will have independent intercepts for both make and model. This has the following advantages:\n",
    "- we can predict on group average i.e. all SUV's\n",
    "- we can get out all the different make/model values independently\n",
    "\n",
    "This will be done with `statsmodel`\n"
   ]
  },
  {
   "cell_type": "code",
   "execution_count": null,
   "metadata": {},
   "outputs": [],
   "source": [
    "import os, sys\n",
    "\n",
    "import pandas as pd\n",
    "import numpy as np\n",
    "import statsmodels.api as sm\n",
    "import statsmodels.formula.api as smf\n",
    "import plotly.express as px\n",
    "\n",
    "cur_dir = os.getcwd()\n",
    "SRC_PATH = cur_dir[: cur_dir.index(\"fortunato-wheels-engine\") + len(\"fortunato-wheels-engine\")]\n",
    "if SRC_PATH not in sys.path:\n",
    "    sys.path.append(SRC_PATH)\n",
    "\n",
    "from src.data.car_ads import CarAds\n",
    "\n",
    "%load_ext autoreload\n",
    "%autoreload 2"
   ]
  },
  {
   "cell_type": "code",
   "execution_count": null,
   "metadata": {},
   "outputs": [],
   "source": [
    "ads = CarAds()\n",
    "ads.get_car_ads(sources=[\"cargurus\", \"kijiji\"])"
   ]
  },
  {
   "cell_type": "code",
   "execution_count": null,
   "metadata": {},
   "outputs": [],
   "source": [
    "ads.df.info()"
   ]
  },
  {
   "cell_type": "code",
   "execution_count": null,
   "metadata": {},
   "outputs": [],
   "source": [
    "ads.preprocess_ads()"
   ]
  },
  {
   "attachments": {},
   "cell_type": "markdown",
   "metadata": {},
   "source": [
    "## Vehicle Type Mapping\n",
    "\n",
    "Starting with SUV's as the target group the following makes/models are used:\n"
   ]
  },
  {
   "cell_type": "code",
   "execution_count": null,
   "metadata": {},
   "outputs": [],
   "source": [
    "suv = pd.DataFrame([\n",
    "        [\"Toyota\", \"RAV4\"],\n",
    "        [\"Toyota\", \"Highlander\"],\n",
    "        # [\"Toyota\", \"RAV4 Prime\"], # only 15 in dataset\n",
    "        [\"Subaru\", \"Forester\"],\n",
    "        [\"Subaru\", \"Outback\"],\n",
    "        [\"Subaru\", \"Impreza\"],\n",
    "        # [\"Subaru\", \"WRX\"],\n",
    "        [\"Subaru\", \"Crosstrek\"],\n",
    "        [\"Honda\", \"CR-V\"],\n",
    "        # [\"Honda\", \"CR-V Hybrid\"],\n",
    "        [\"Honda\", \"HR-V\"],\n",
    "    ],\n",
    "    columns=[\"make\", \"model\"]\n",
    ")"
   ]
  },
  {
   "cell_type": "code",
   "execution_count": null,
   "metadata": {},
   "outputs": [],
   "source": [
    "suv_df = ads.df.query(\"(make in @suv.make) & (model in @suv.model) & (price < 120_000)\").reset_index(drop=True)\n",
    "suv_df[\"year_posted\"] = suv_df.listed_date.dt.year\n",
    "# suv_df.make = suv_df.make.cat.remove_unused_categories();\n",
    "# suv_df.model = suv_df.model.cat.remove_unused_categories();"
   ]
  },
  {
   "cell_type": "code",
   "execution_count": null,
   "metadata": {},
   "outputs": [],
   "source": [
    "from sklearn.model_selection import train_test_split\n",
    "\n",
    "train_df, test_df = train_test_split(\n",
    "    suv_df,\n",
    "    test_size=0.25,\n",
    "    random_state=42,\n",
    "    stratify=suv_df[\"model\"],\n",
    ")\n",
    "\n",
    "model_features = [\n",
    "    \"age_at_posting\",\n",
    "    \"mileage_per_year\",\n",
    "    \"mileage\",\n",
    "    \"make\",\n",
    "    \"model\",\n",
    "    \"price\",\n",
    "    \"listed_date\",\n",
    "    \"year_posted\",\n",
    "    \"wheel_system\"\n",
    "    \n",
    "]\n",
    "\n",
    "train_df = train_df[model_features].dropna().reset_index(drop=True)\n",
    "test_df = test_df[model_features].dropna().reset_index(drop=True)"
   ]
  },
  {
   "cell_type": "code",
   "execution_count": null,
   "metadata": {},
   "outputs": [],
   "source": [
    "test_df.model.value_counts() / len(test_df)"
   ]
  },
  {
   "cell_type": "code",
   "execution_count": null,
   "metadata": {},
   "outputs": [],
   "source": [
    "train_df.model.value_counts() / len(train_df)"
   ]
  },
  {
   "cell_type": "code",
   "execution_count": null,
   "metadata": {},
   "outputs": [],
   "source": [
    "# plot how many ads there are by the top 30 make_name values\n",
    "fig = px.histogram(\n",
    "    # ads.loc[ads.make_name.isin(ads.make_name.value_counts().index[:15])],\n",
    "    train_df.loc[train_df.model.isin(train_df.model.value_counts().index[:20])],\n",
    "    x=\"model\",\n",
    "    title=\"Number of Ads by Model\",\n",
    "    color=\"model\",\n",
    "    labels={\"model\": \"Model\"},\n",
    "    color_discrete_sequence=px.colors.qualitative.Dark24,\n",
    "    height=500,\n",
    "    category_orders={\"model\": train_df.model.value_counts().index[:15]}\n",
    ")\n",
    "fig.show()"
   ]
  },
  {
   "cell_type": "code",
   "execution_count": null,
   "metadata": {},
   "outputs": [],
   "source": [
    "fig = px.scatter(\n",
    "    train_df,\n",
    "    x = \"age_at_posting\",\n",
    "    y = \"price\",\n",
    "    color = \"make\",\n",
    "    opacity=0.2\n",
    ")\n",
    "fig.show()"
   ]
  },
  {
   "cell_type": "code",
   "execution_count": null,
   "metadata": {},
   "outputs": [],
   "source": [
    "# linear reression model based on age and mileage\n",
    "ols = (\n",
    "    smf.ols(\n",
    "        \"price ~ age_at_posting + mileage_per_year + mileage\", \n",
    "        train_df[[\"make\", \"age_at_posting\", \"price\", \"mileage_per_year\", \"mileage\"]], \n",
    "    )\n",
    "    .fit()\n",
    ")\n",
    "print(ols.summary())"
   ]
  },
  {
   "cell_type": "code",
   "execution_count": null,
   "metadata": {},
   "outputs": [],
   "source": [
    "rmse = np.std(ols.resid)\n",
    "mape = np.mean(np.abs(ols.resid / train_df.price))\n",
    "print(f\"OLS Model price RMSE in CAD: ${rmse:.0f}\")\n",
    "print(f\"OLS Model price MAPE in CAD: {mape:.2%}\")"
   ]
  },
  {
   "cell_type": "code",
   "execution_count": null,
   "metadata": {},
   "outputs": [],
   "source": [
    "fig = px.histogram(\n",
    "    x = ols.resid,\n",
    "    color=train_df.make,\n",
    "    title = \"OLS Model of Price Residuals Distribution\",\n",
    "    labels = {\n",
    "        \"x\" : \"Model Residual ($CAD)\"\n",
    "    }, \n",
    "    height = 800,\n",
    "    barmode=\"overlay\",\n",
    "    histnorm=\"percent\",\n",
    ").update_layout(\n",
    "    # set xa axis limits\n",
    "    xaxis = dict(\n",
    "        range = [-25_000, 25_000]\n",
    "    )\n",
    ")\n",
    "fig.add_vline(\n",
    "    x=ols.resid.median(), \n",
    "    line_dash = 'dash', \n",
    "    line_color = 'firebrick',\n",
    "    annotation_text = f\" Median: ${ols.resid.median():.0f}\",\n",
    ")\n",
    "fig.show()"
   ]
  },
  {
   "attachments": {},
   "cell_type": "markdown",
   "metadata": {},
   "source": [
    "## Mixed Effect Model by Make\n",
    "\n",
    "Introducing and individual model per make of vehicle."
   ]
  },
  {
   "cell_type": "code",
   "execution_count": null,
   "metadata": {},
   "outputs": [],
   "source": [
    "# linear reression model based on age and mileage\n",
    "ols_make = (\n",
    "    smf.mixedlm(\n",
    "        formula = \"price ~ age_at_posting + mileage_per_year\", \n",
    "        data = train_df, \n",
    "        groups = \"make\",\n",
    "        re_formula = \"~ age_at_posting + mileage_per_year\" # random effects with different slopes and intercepts\n",
    "    )\n",
    "    .fit(method=[\"lbfgs\"])\n",
    ")\n",
    "print(ols_make.summary())"
   ]
  },
  {
   "cell_type": "code",
   "execution_count": null,
   "metadata": {},
   "outputs": [],
   "source": [
    "rmse = np.std(ols_make.resid)\n",
    "mape = np.mean(np.abs(ols_make.resid / train_df.price))\n",
    "print(f\"OLS Model price RMSE in CAD: ${rmse:.0f}\")\n",
    "print(f\"OLS Model price MAPE in CAD: {mape:.2%}\")"
   ]
  },
  {
   "cell_type": "code",
   "execution_count": null,
   "metadata": {},
   "outputs": [],
   "source": [
    "fig = px.histogram(\n",
    "    x = ols_make.resid,\n",
    "    color=train_df[[\"make\", \"price\", \"age_at_posting\", \"mileage_per_year\"]].dropna().make,\n",
    "    title = \"OLS Model of Price Residuals Distribution\",\n",
    "    labels = {\n",
    "        \"x\" : \"Model Residual ($CAD)\"\n",
    "    }, \n",
    "    height = 800,\n",
    "    barmode=\"overlay\",\n",
    "    histnorm=\"percent\",\n",
    ").update_layout(\n",
    "    xaxis = dict(\n",
    "        range = [-25_000, 25_000]\n",
    "    )\n",
    ")\n",
    "fig.add_vline(\n",
    "    x=ols_make.resid.median(), \n",
    "    line_dash = 'dash', \n",
    "    line_color = 'firebrick',\n",
    "    annotation_text = f\" Median: ${ols_make.resid.median():.0f}\",\n",
    ")\n",
    "fig.show()"
   ]
  },
  {
   "attachments": {},
   "cell_type": "markdown",
   "metadata": {},
   "source": [
    "# Mixed Effects by Model\n",
    "\n",
    "Assumes no two brands share the same model name of a vehicle."
   ]
  },
  {
   "cell_type": "code",
   "execution_count": null,
   "metadata": {},
   "outputs": [],
   "source": [
    "train_df[\"make_model\"] = train_df.make.astype(str) + \" \" + train_df.model.astype(str)\n",
    "# train_df_no_crv = train_df.query(\"make_model != 'Honda CR-V'\").reset_index(drop=True)"
   ]
  },
  {
   "cell_type": "code",
   "execution_count": null,
   "metadata": {},
   "outputs": [],
   "source": [
    "ols_md = (\n",
    "    smf.mixedlm(\n",
    "        formula = \"price ~ age_at_posting + wheel_system + mileage_per_year\",\n",
    "        data = train_df,\n",
    "        groups = \"model\",\n",
    "        re_formula = \"~ age_at_posting\" # random effects with different slopes and intercepts\n",
    "    )\n",
    ")\n",
    "# fit with mthod lbfgs and set maxfun to 1000 as a kwargs\n",
    "# ols_model = ols_md.fit(method=[\"lbfgs\"], options = {'maxfun':1000})\n",
    "ols_model = ols_md.fit(method=[\"lbfgs\"])\n",
    "\n",
    "print(ols_model.summary())"
   ]
  },
  {
   "cell_type": "code",
   "execution_count": null,
   "metadata": {},
   "outputs": [],
   "source": [
    "ols_model.random_effects"
   ]
  },
  {
   "cell_type": "code",
   "execution_count": null,
   "metadata": {},
   "outputs": [],
   "source": [
    "rmse = np.std(ols_model.resid)\n",
    "mape = np.mean(np.abs(ols_model.resid / train_df.price))\n",
    "print(f\"OLS Model price RMSE in CAD: ${rmse:.0f}\")\n",
    "print(f\"OLS Model price MAPE: {mape:.2%}\")"
   ]
  },
  {
   "cell_type": "code",
   "execution_count": null,
   "metadata": {},
   "outputs": [],
   "source": [
    "fig = px.histogram(\n",
    "    x = ols_model.resid,\n",
    "    color=train_df[[\"model\", \"price\", \"age_at_posting\", \"mileage_per_year\"]].dropna().model,\n",
    "    title = \"OLS Model of Price Residuals Distribution\",\n",
    "    labels = {\n",
    "        \"x\" : \"Model Residual ($CAD)\"\n",
    "    }, \n",
    "    height = 800,\n",
    "    barmode=\"overlay\",\n",
    "    histnorm=\"percent\",\n",
    "    nbins=250,\n",
    ").update_layout(\n",
    "    xaxis = dict(\n",
    "        range = [-25_000, 25_000]\n",
    "    )\n",
    ")\n",
    "\n",
    "fig.add_vline(\n",
    "    x=ols_model.resid.median(), \n",
    "    line_dash = 'dash', \n",
    "    line_color = 'firebrick',\n",
    "    annotation_text = f\" Median: ${ols_model.resid.median():.0f}\",\n",
    ")\n",
    "fig.add_vline(\n",
    "    x = ols_model.resid.mean() + 1.63*rmse,\n",
    "    line_color = \"lime\",\n",
    "    annotation_text = f\" 90% CI: +\\-${ols_model.resid.mean() + rmse:.0f}\",\n",
    ")\n",
    "fig.add_vline(\n",
    "    x = ols_model.resid.mean() - 1.63*rmse,\n",
    "    line_color = \"lime\",\n",
    ")\n",
    "fig.show()"
   ]
  },
  {
   "cell_type": "code",
   "execution_count": null,
   "metadata": {},
   "outputs": [],
   "source": [
    "# calculate percent error and remove any with > 200%\n",
    "train_df[\"abs_percent_error\"] = np.abs(ols_model.resid / train_df.price)\n",
    "\n",
    "fig = px.histogram(\n",
    "    x = train_df.query(\"abs_percent_error < 2\").abs_percent_error,\n",
    "    color=train_df.query(\"abs_percent_error < 2\").model,\n",
    "    title = \"OLS Model of Price Abs Percent Error Distribution\",\n",
    "    labels = {\n",
    "        \"x\" : \"Percent Error (%)\"\n",
    "    }, \n",
    "    height = 800,\n",
    "    barmode=\"overlay\",\n",
    "    histnorm=\"percent\",\n",
    ").update_layout(\n",
    "    xaxis = dict(\n",
    "        range = [0, 2]\n",
    "    )\n",
    ")\n",
    "\n",
    "fig.add_vline(\n",
    "    x=ols_model.resid.median(), \n",
    "    line_dash = 'dash', \n",
    "    line_color = 'firebrick',\n",
    "    annotation_text = f\" Median: ${ols_model.resid.median():.0f}\",\n",
    ")\n",
    "\n",
    "fig.show()"
   ]
  },
  {
   "cell_type": "code",
   "execution_count": null,
   "metadata": {},
   "outputs": [],
   "source": [
    "# plot residuals vs age_at_posting\n",
    "fig = px.scatter(\n",
    "    train_df,\n",
    "    x = \"age_at_posting\",\n",
    "    y = ols_model.resid,\n",
    "    color = \"model\",\n",
    "    title = \"OLS Model of Price Residuals vs Age at Posting\",\n",
    "    labels = {\n",
    "        \"x\" : \"Age at Posting (years)\",\n",
    "        \"y\" : \"Model Residual ($CAD)\"\n",
    "    },\n",
    "    height = 600,\n",
    ")\n",
    "\n",
    "fig.show()"
   ]
  },
  {
   "attachments": {},
   "cell_type": "markdown",
   "metadata": {},
   "source": [
    "We can see the residuals are ROUGHLY centered with the exception of older vehicles. How many vehicles do we have by year? Seeing below as expected the majority of ads are < 10 years old at posting so this is potentially ok."
   ]
  },
  {
   "cell_type": "code",
   "execution_count": null,
   "metadata": {},
   "outputs": [],
   "source": [
    "train_df.age_at_posting.value_counts()"
   ]
  },
  {
   "cell_type": "markdown",
   "metadata": {},
   "source": [
    "## Evaluate Model on Test Set"
   ]
  },
  {
   "cell_type": "code",
   "execution_count": null,
   "metadata": {},
   "outputs": [],
   "source": [
    "test_df[\"pred_price\"] = mle_model.predict(test_df)"
   ]
  },
  {
   "cell_type": "code",
   "execution_count": null,
   "metadata": {},
   "outputs": [],
   "source": [
    "rmse = np.std(test_df.pred_price - test_df.price)\n",
    "mape = np.mean(np.abs((test_df.pred_price - test_df.price) / test_df.price))\n",
    "print(f\"OLS Model price RMSE in CAD: ${rmse:.0f}\")\n",
    "print(f\"OLS Model price MAPE: {mape:.2%}\")"
   ]
  },
  {
   "cell_type": "code",
   "execution_count": null,
   "metadata": {},
   "outputs": [],
   "source": [
    "test_residuals = test_df.pred_price - test_df.price\n",
    "\n",
    "fig = px.histogram(\n",
    "    x = test_residuals,\n",
    "    color=test_df.model,\n",
    "    title = \"OLS Model of Price Residuals Distribution\",\n",
    "    labels = {\n",
    "        \"x\" : \"Model Residual ($CAD)\"\n",
    "    }, \n",
    "    height = 800,\n",
    "    barmode=\"overlay\",\n",
    "    histnorm=\"percent\",\n",
    ").update_layout(\n",
    "    xaxis = dict(\n",
    "        # range = [-25_000, 25_000]\n",
    "    )\n",
    ")\n",
    "\n",
    "fig.add_vline(\n",
    "    x=test_residuals.median(), \n",
    "    line_dash = 'dash', \n",
    "    line_color = 'firebrick',\n",
    "    annotation_text = f\" Median: ${test_residuals.median():.0f}\",\n",
    ")\n",
    "fig.add_vline(\n",
    "    x = test_residuals.mean() + 1.63*rmse,\n",
    "    line_color = \"lime\",\n",
    "    annotation_text = f\" 90% CI: +\\-${test_residuals.mean() + rmse:.0f}\",\n",
    ")\n",
    "fig.add_vline(\n",
    "    x = test_residuals.mean() - 1.63*rmse,\n",
    "    line_color = \"lime\",\n",
    ")\n",
    "fig.show()"
   ]
  },
  {
   "attachments": {},
   "cell_type": "markdown",
   "metadata": {},
   "source": [
    "# Cleaning Up & Using Custom Model Class CarPricePredictorLME\n",
    "\n",
    "The class `CarPricePredictorLME` is a wrapper around the `statsmodels` `MixedLM` class. It is used to predict the price of a vehicle based on the make, model, age and mileage. \n",
    "\n",
    "It has the following functionality built on top of the `MixedLM` class:\n",
    "- `predict` method properly handles mixed effects parameters and adds the correct parameters into the predictions which the standard predict function does not.\n",
    "- `save_model` method saves the model to disk\n",
    "- `load_model` method loads the model from disk and correctly parses the parameters of the model into the correct format for the `predict` method."
   ]
  },
  {
   "cell_type": "code",
   "execution_count": null,
   "metadata": {},
   "outputs": [],
   "source": [
    "from src.models.linear_mixed_effects import CarPricePredictorLME\n",
    "import json"
   ]
  },
  {
   "cell_type": "code",
   "execution_count": null,
   "metadata": {},
   "outputs": [],
   "source": [
    "# loading in vehicle types and makes/models\n",
    "with open(os.path.join(SRC_PATH, \"models\", \"vehicle-type-model-config.json\"), \"r\") as f:\n",
    "    vehicle_types = json.load(f)\n",
    "\n",
    "suv_prod = pd.DataFrame(vehicle_types[\"suv\"], columns=[\"make\", \"model\"])\n",
    "\n",
    "min_price = 1000\n",
    "max_price = 200_000\n",
    "min_ads = 4000\n",
    "\n",
    "# anly get makes and models in suv_prod and make sure a minimum number of 4000 ads for each model\n",
    "suv_prod_df =  ads.df.query(\n",
    "    \"(make in @suv_prod.make) \"\n",
    "    \"& (model in @suv_prod.model)\"\n",
    "    \"& (price > @min_price)\"\n",
    "    \"& (price < @max_price)\"\n",
    "    ).reset_index(drop=True)\n",
    "\n",
    "# remove any rwos where the makes/models have less than 4000 ads\n",
    "suv_prod_df = suv_prod_df.groupby([\"make\", \"model\"]).filter(lambda x: len(x) > min_ads).reset_index(drop=True)\n",
    "\n",
    "train_df, test_df = train_test_split(\n",
    "    suv_prod_df,\n",
    "    test_size=0.25,\n",
    "    random_state=42,\n",
    "    stratify=suv_prod_df[\"model\"],\n",
    ")\n",
    "\n",
    "model_features = [\n",
    "    \"age_at_posting\",\n",
    "    \"mileage_per_year\",\n",
    "    \"mileage\",\n",
    "    \"make\",\n",
    "    \"model\",\n",
    "    \"price\",\n",
    "    \"listed_date\",\n",
    "    \"wheel_system\"\n",
    "]\n",
    "\n",
    "train_df = train_df[model_features].dropna().reset_index(drop=True)\n",
    "test_df = test_df[model_features].dropna().reset_index(drop=True)"
   ]
  },
  {
   "cell_type": "code",
   "execution_count": null,
   "metadata": {},
   "outputs": [],
   "source": [
    "# plot how many ads there are by the top 30 make_name values\n",
    "fig = px.histogram(\n",
    "    # ads.loc[ads.make_name.isin(ads.make_name.value_counts().index[:15])],\n",
    "    suv_prod_df.loc[suv_prod_df.model.isin(suv_prod_df.model.value_counts().index[:60])],\n",
    "    x=\"model\",\n",
    "    title=\"Number of Ads by Model\",\n",
    "    color=\"model\",\n",
    "    labels={\"model\": \"Model\"},\n",
    "    color_discrete_sequence=px.colors.qualitative.Dark24,\n",
    "    height=500,\n",
    "    category_orders={\"model\": suv_prod_df.model.value_counts().index[:60]}\n",
    ")\n",
    "fig.show()"
   ]
  },
  {
   "cell_type": "code",
   "execution_count": null,
   "metadata": {},
   "outputs": [],
   "source": [
    "mle_model = CarPricePredictorLME(\n",
    "    target = \"price\",\n",
    "    fixed_continuous_features = [\"age_at_posting\", \"mileage_per_year\"],\n",
    "    fixed_categorical_features= [\"wheel_system\"],\n",
    "    random_effects = [\"age_at_posting\"],\n",
    "    group = \"model\"\n",
    ")\n",
    "\n",
    "mle_model.fit(train_df)\n",
    "results = mle_model.evaluate_model()"
   ]
  },
  {
   "cell_type": "code",
   "execution_count": null,
   "metadata": {},
   "outputs": [],
   "source": [
    "import plotly.graph_objects as go\n",
    "\n",
    "train_df[\"pred_price\"] = mle_model.model.fittedvalues\n",
    "train_df[\"residuals\"] = mle_model.model.resid\n",
    "train_df[\"pred_residuals\"] = train_df.price - train_df.pred_price "
   ]
  },
  {
   "cell_type": "code",
   "execution_count": null,
   "metadata": {},
   "outputs": [],
   "source": [
    "# calculate rmse and mape for each model of vehicle\n",
    "results_by_model = train_df.groupby([\"make\", \"model\"]).apply(lambda x: {\n",
    "    \"train_rmse\" : np.std(x.residuals),\n",
    "    \"train_mape\" : np.mean(np.abs((x.residuals) / x.price))\n",
    "})\n",
    "# convert results by mdel into df with rmse and mape extracted into their own columns without make/model as index\n",
    "results_by_model = pd.DataFrame(results_by_model.tolist(), index=results_by_model.index).reset_index()"
   ]
  },
  {
   "cell_type": "code",
   "execution_count": null,
   "metadata": {},
   "outputs": [],
   "source": [
    "from plotly.subplots import make_subplots\n",
    "\n",
    "# plot distribution of RMSE and MAPE by model\n",
    "fig = make_subplots(\n",
    "    rows=2,\n",
    "    cols=1,\n",
    "    subplot_titles=(\"RMSE\", \"MAPE\"),\n",
    "    row_heights=[0.5, 0.5],\n",
    "    specs=[[{\"type\": \"bar\"}],[{\"type\": \"bar\"}]],\n",
    ")\n",
    "\n",
    "fig.add_trace(\n",
    "    go.Bar(\n",
    "        x=results_by_model.model,\n",
    "        y=results_by_model.train_rmse,\n",
    "        name=\"RMSE\",\n",
    "        marker_color=\"firebrick\",\n",
    "    ),\n",
    "    row=1,\n",
    "    col=1,\n",
    ")\n",
    "\n",
    "fig.add_trace(\n",
    "    go.Bar(\n",
    "        x=results_by_model.model,\n",
    "        y=results_by_model.train_mape,\n",
    "        name=\"MAPE\",\n",
    "        marker_color=\"royalblue\",\n",
    "    ),\n",
    "    row=2,\n",
    "    col=1,\n",
    ")\n",
    "\n",
    "# sort x axis by RMSE\n",
    "fig.update_xaxes(\n",
    "    row=1,\n",
    "    col=1,\n",
    "    categoryorder=\"array\",\n",
    "    categoryarray=results_by_model.sort_values(\"rmse\", ascending=False).model,\n",
    ")\n",
    "fig.update_xaxes(\n",
    "    row=2,\n",
    "    col=1,\n",
    "    categoryorder=\"array\",\n",
    "    categoryarray=results_by_model.sort_values(\"rmse\", ascending=False).model,\n",
    ")\n",
    "\n",
    "fig.update_layout(\n",
    "    title_text=\"RMSE and MAPE by Model\",\n",
    "    height=800,\n",
    "    width=1000,\n",
    "    showlegend=False,\n",
    "    xaxis_tickangle=-45,\n",
    "    xaxis_tickfont_size=10,\n",
    "    yaxis_tickfont_size=10,\n",
    ")\n",
    "\n",
    "fig.show()"
   ]
  },
  {
   "attachments": {},
   "cell_type": "markdown",
   "metadata": {},
   "source": [
    "## Evalaute on Test Set"
   ]
  },
  {
   "cell_type": "code",
   "execution_count": null,
   "metadata": {},
   "outputs": [],
   "source": [
    "test_df[\"pred_price\"] = mle_model.model.predict(test_df)\n",
    "test_df[\"residuals\"] = test_df.price - test_df.pred_price\n",
    "# calculate overall rmse and mape\n",
    "rmse = np.std(test_df.residuals)\n",
    "mape = np.mean(np.abs((test_df.residuals) / test_df.price))\n",
    "print(f\"Test RMSE: ${rmse:.0f}\")\n",
    "print(f\"Test MAPE: {mape*100:.2f}%\")"
   ]
  },
  {
   "cell_type": "code",
   "execution_count": null,
   "metadata": {},
   "outputs": [],
   "source": [
    "# calculate rmse and mape for each model of vehicle in test_df\n",
    "results_by_model_test = test_df.groupby([\"make\", \"model\"]).apply(lambda x: {\n",
    "    \"test_rmse\" : np.std(x.residuals),\n",
    "    \"test_mape\" : np.mean(np.abs((x.residuals) / x.price))\n",
    "})\n",
    "# convert results by mdel into df with rmse and mape extracted into their own columns without make/model as index\n",
    "results_by_model_test = pd.DataFrame(results_by_model_test.tolist(), index=results_by_model_test.index).reset_index()"
   ]
  },
  {
   "cell_type": "code",
   "execution_count": null,
   "metadata": {},
   "outputs": [],
   "source": [
    "from plotly.subplots import make_subplots\n",
    "\n",
    "# plot distribution of RMSE and MAPE by model\n",
    "fig = make_subplots(\n",
    "    rows=2,\n",
    "    cols=1,\n",
    "    subplot_titles=(\"RMSE\", \"MAPE\"),\n",
    "    row_heights=[0.5, 0.5],\n",
    "    specs=[[{\"type\": \"bar\"}],[{\"type\": \"bar\"}]],\n",
    ")\n",
    "\n",
    "fig.add_trace(\n",
    "    go.Bar(\n",
    "        x=results_by_model_test.model,\n",
    "        y=results_by_model_test.rmse,\n",
    "        name=\"RMSE\",\n",
    "        marker_color=\"firebrick\",\n",
    "    ),\n",
    "    row=1,\n",
    "    col=1,\n",
    ")\n",
    "\n",
    "fig.add_trace(\n",
    "    go.Bar(\n",
    "        x=results_by_model_test.model,\n",
    "        y=results_by_model_test.mape,\n",
    "        name=\"MAPE\",\n",
    "        marker_color=\"royalblue\",\n",
    "    ),\n",
    "    row=2,\n",
    "    col=1,\n",
    ")\n",
    "\n",
    "# sort x axis by RMSE\n",
    "fig.update_xaxes(\n",
    "    row=1,\n",
    "    col=1,\n",
    "    categoryorder=\"array\",\n",
    "    categoryarray=results_by_model_test.sort_values(\"rmse\", ascending=False).model,\n",
    ")\n",
    "fig.update_xaxes(\n",
    "    row=2,\n",
    "    col=1,\n",
    "    categoryorder=\"array\",\n",
    "    categoryarray=results_by_model_test.sort_values(\"rmse\", ascending=False).model,\n",
    ")\n",
    "\n",
    "fig.update_layout(\n",
    "    title_text=\"RMSE and MAPE by Model\",\n",
    "    height=800,\n",
    "    width=1000,\n",
    "    showlegend=False,\n",
    "    xaxis_tickangle=-45,\n",
    "    xaxis_tickfont_size=10,\n",
    "    yaxis_tickfont_size=10,\n",
    ")\n",
    "\n",
    "fig.show()"
   ]
  },
  {
   "cell_type": "code",
   "execution_count": null,
   "metadata": {},
   "outputs": [],
   "source": [
    "# combine valid_make_models and results_by_model_test based on model column \n",
    "# to get make, model, and train_rmse, test_rmse, train_mape test_mape for each model\n",
    "results_by_model_overall = results_by_model_test.merge(results_by_model, on=[\"make\", \"model\"], how=\"left\")"
   ]
  },
  {
   "cell_type": "code",
   "execution_count": null,
   "metadata": {},
   "outputs": [],
   "source": [
    "results_by_model_overall"
   ]
  },
  {
   "cell_type": "code",
   "execution_count": null,
   "metadata": {},
   "outputs": [],
   "source": [
    "results_by_model_overall[\"rmse_diff\"] = results_by_model_overall.test_rmse - results_by_model_overall.train_rmse\n",
    "results_by_model_overall[\"mape_diff\"] = results_by_model_overall.test_mape - results_by_model_overall.train_mape"
   ]
  },
  {
   "cell_type": "code",
   "execution_count": null,
   "metadata": {},
   "outputs": [],
   "source": [
    "results_by_model_overall.sort_values(\"test_rmse\", ascending=False)"
   ]
  },
  {
   "cell_type": "code",
   "execution_count": null,
   "metadata": {},
   "outputs": [],
   "source": [
    "# select makes/models with mape < 0.2 and rmse < 5000\n",
    "valid_make_models = results_by_model_overall.query(\"test_mape < 0.2 | test_rmse < 5000\")\n",
    "valid_make_models"
   ]
  },
  {
   "cell_type": "code",
   "execution_count": null,
   "metadata": {},
   "outputs": [],
   "source": [
    "# export valide make/models to valid-vehicle-types.json\n",
    "# with format {\"suv\": [[make, model], []]}\n",
    "json_data = {\"suv\" : valid_make_models[[\"make\", \"model\"]].values.tolist()}\n",
    "with open(os.path.join(SRC_PATH, \"models\", \"valid-vehicle-type-models.json\"), 'w') as fp:\n",
    "    json.dump(json_data, fp, indent = 3)"
   ]
  },
  {
   "attachments": {},
   "cell_type": "markdown",
   "metadata": {},
   "source": [
    "## Retraining with only Valid Makes/Models and All Data"
   ]
  },
  {
   "cell_type": "code",
   "execution_count": null,
   "metadata": {},
   "outputs": [],
   "source": [
    "min_price = 1000\n",
    "max_price = 200_000\n",
    "min_ads = 4000\n",
    "\n",
    "# anly get makes and models in suv_prod and make sure a minimum number of 4000 ads for each model\n",
    "prod_df =  ads.df.query(\n",
    "    \"(make in @valid_make_models.make) \"\n",
    "    \"& (model in @valid_make_models.model)\"\n",
    "    \"& (price > @min_price)\"\n",
    "    \"& (price < @max_price)\"\n",
    "    ).reset_index(drop=True)\n",
    "\n",
    "# remove any rwos where the makes/models have less than 4000 ads\n",
    "prod_df = prod_df.groupby([\"make\", \"model\"]).filter(lambda x: len(x) > min_ads).reset_index(drop=True)\n",
    "\n",
    "train_df, test_df = train_test_split(\n",
    "    prod_df,\n",
    "    test_size=0.25,\n",
    "    random_state=42,\n",
    "    stratify=prod_df[\"model\"],\n",
    ")\n",
    "\n",
    "model_features = [\n",
    "    \"age_at_posting\",\n",
    "    \"mileage_per_year\",\n",
    "    \"mileage\",\n",
    "    \"make\",\n",
    "    \"model\",\n",
    "    \"price\",\n",
    "    \"listed_date\",\n",
    "    \"wheel_system\"\n",
    "]\n",
    "\n",
    "train_df = prod_df[model_features].dropna().reset_index(drop=True)\n",
    "# test_df = test_df[model_features].dropna().reset_index(drop=True)"
   ]
  },
  {
   "cell_type": "code",
   "execution_count": null,
   "metadata": {},
   "outputs": [],
   "source": [
    "mle_model = CarPricePredictorLME(\n",
    "    target = \"price\",\n",
    "    fixed_continuous_features = [\"age_at_posting\", \"mileage_per_year\"],\n",
    "    fixed_categorical_features= [\"wheel_system\"],\n",
    "    random_effects = [\"age_at_posting\"],\n",
    "    group = \"model\"\n",
    ")\n",
    "\n",
    "mle_model.fit(train_df)\n",
    "results = mle_model.evaluate_model()"
   ]
  },
  {
   "cell_type": "code",
   "execution_count": null,
   "metadata": {},
   "outputs": [],
   "source": [
    "train_df[\"pred_price\"] = mle_model.model.fittedvalues\n",
    "train_df[\"residuals\"] = mle_model.model.resid"
   ]
  },
  {
   "cell_type": "code",
   "execution_count": null,
   "metadata": {},
   "outputs": [],
   "source": [
    "# plot age at posting vs price and the models predictions across the range of 0-10 years\n",
    "fig = px.scatter(\n",
    "    train_df,\n",
    "    x = \"age_at_posting\",\n",
    "    y = \"pred_price\",\n",
    "    color = train_df.model,\n",
    "    hover_data=['make', 'model', 'price', 'pred_price', 'wheel_system', 'mileage_per_year', 'age_at_posting'],\n",
    "    title = \"Linear Mixed Effects Model of Price vs Age at Posting, Drive System, and Mileage per Year\",\n",
    "    labels = {\n",
    "        \"age_at_posting\" : \"Age at Posting (years)\",\n",
    "        \"pred_price\" : \"Predicted Price ($CAD)\",\n",
    "    },\n",
    "    height = 800,\n",
    "    width = 1200,\n",
    ").update_layout(\n",
    "    xaxis = dict(\n",
    "        # range = [0, 10]\n",
    "    )\n",
    ")\n",
    "\n",
    "fig.show()"
   ]
  },
  {
   "cell_type": "code",
   "execution_count": null,
   "metadata": {},
   "outputs": [],
   "source": [
    "fig = px.histogram(\n",
    "    train_df.query(\"(residuals < 25_000) & (residuals > -25_000)\"),\n",
    "    x = \"residuals\",\n",
    "    color=\"model\",\n",
    "    title = \"OLS Model of Price Residuals Distribution\",\n",
    "    labels = {\n",
    "        \"x\" : \"Model Residual ($CAD)\"\n",
    "    }, \n",
    "    height = 800,\n",
    "    barmode=\"overlay\",\n",
    "    histnorm=\"percent\",\n",
    "    nbins=250,\n",
    ").update_layout(\n",
    "    xaxis = dict(\n",
    "        range = [-25_000, 25_000]\n",
    "    )\n",
    ")\n",
    "\n",
    "fig.add_vline(\n",
    "    x=train_df.residuals.median(), \n",
    "    line_dash = 'dash', \n",
    "    line_color = 'firebrick',\n",
    "    annotation_text = f\" Median: ${train_df.residuals.median():.0f}\",\n",
    ")\n",
    "fig.add_vline(\n",
    "    x = train_df.residuals.mean() + 1.63*results[\"rmse\"],\n",
    "    line_color = \"lime\",\n",
    "    annotation_text = f\" 90% CI: +\\-${train_df.residuals.mean() + 1.63*results['rmse']:.0f}\",\n",
    ")\n",
    "fig.add_vline(\n",
    "    x = train_df.residuals.mean() - 1.63*results[\"rmse\"],\n",
    "    line_color = \"lime\",\n",
    ")\n",
    "fig.show()"
   ]
  },
  {
   "attachments": {},
   "cell_type": "markdown",
   "metadata": {},
   "source": [
    "## Generate Summary Dictionary for Each Make/Model"
   ]
  },
  {
   "cell_type": "code",
   "execution_count": null,
   "metadata": {},
   "outputs": [],
   "source": [
    "# calculate rmse and mape for each model of vehicle\n",
    "results_by_model = train_df.groupby([\"make\", \"model\"]).apply(lambda x: {\n",
    "    \"rmse\" : np.std(x.residuals),\n",
    "    \"mape\" : np.mean(np.abs((x.residuals) / x.price))\n",
    "})\n",
    "# convert results by mdel into df with rmse and mape extracted into their own columns without make/model as index\n",
    "results_by_model = pd.DataFrame(results_by_model.tolist(), index=results_by_model.index).reset_index()\n",
    "\n",
    "model_summary = []\n",
    "for model in valid_make_models.model:\n",
    "\n",
    "    model_df = train_df.query(\"model == @model\")\n",
    "    model_summary.append({\n",
    "        \"vehicle_type\": \"suv\",\n",
    "        \"make\" : model_df.make.values[0],\n",
    "        \"model\" : model,\n",
    "        \"model_version\": 1, \n",
    "        \"model_type\" : \"linear_mixed_effects\",\n",
    "        \"n\" : len(model_df),\n",
    "        \"rmse\" : round(results_by_model.query(\"model == @model\").rmse.values[0], 1),\n",
    "        \"mape\" : round(results_by_model.query(\"model == @model\").mape.values[0], 3),\n",
    "        \"model_stats\" : {\n",
    "            \"median_residual\" : round(model_df.residuals.median(), 1),\n",
    "            \"mean_residual\" : round(model_df.residuals.mean(), 0),\n",
    "        },\n",
    "        \"vehicle_stats\": {\n",
    "            \"median_price\" : round(model_df.price.median(), 0),\n",
    "            \"mean_price\" : round(model_df.price.mean(), 0),\n",
    "            \"avg_age_at_posting\" : round(model_df.age_at_posting.mean(), 2)\n",
    "        },\n",
    "        \"model_details\" : {\n",
    "            \"fixed_continuous_features\" : mle_model.fixed_continuous_features,\n",
    "            \"fixed_categorical_features\" : mle_model.fixed_categorical_features,\n",
    "            \"random_effects\" : mle_model.random_effects,\n",
    "            \"group\": mle_model.group,\n",
    "            \"intercept\" : round(mle_model.model.params[\"Intercept\"] + mle_model.model.random_effects[model][\"model\"], 1),\n",
    "            \"slope_age_at_posting\": round(mle_model.model.params[\"age_at_posting\"] + mle_model.model.random_effects[model][\"age_at_posting\"], 1),\n",
    "            \"slope_mileage_per_year\": round(mle_model.model.params[\"mileage_per_year\"], 4),\n",
    "        }\n",
    "    })\n",
    "\n",
    "model_summary[0]"
   ]
  },
  {
   "attachments": {},
   "cell_type": "markdown",
   "metadata": {},
   "source": [
    "## Save model"
   ]
  },
  {
   "cell_type": "code",
   "execution_count": null,
   "metadata": {},
   "outputs": [],
   "source": [
    "mle_model.save_model(os.path.join(SRC_PATH, \"models\", \"vehicle-type\", \"suv-price-model-v1.pkl\"))"
   ]
  },
  {
   "cell_type": "markdown",
   "metadata": {},
   "source": []
  },
  {
   "cell_type": "code",
   "execution_count": null,
   "metadata": {},
   "outputs": [],
   "source": [
    "ads.df.query(\"make == 'Toyota'\").model.value_counts()"
   ]
  },
  {
   "cell_type": "code",
   "execution_count": null,
   "metadata": {},
   "outputs": [],
   "source": [
    "sample = pd.DataFrame({\n",
    "    \"make\" : [\"Toyota\"],\n",
    "    \"model\": [\"RAV4\"],\n",
    "    \"age_at_posting\": [6],\n",
    "    \"mileage_per_year\": [8000],\n",
    "    \"wheel_system\": [\"FWD\"]\n",
    "})\n",
    "\n",
    "mle_model.predict(sample)"
   ]
  },
  {
   "attachments": {},
   "cell_type": "markdown",
   "metadata": {},
   "source": [
    "# Model Deployment on Azure\n",
    "\n",
    "Sample multi moel from docs: https://github.com/Azure/azureml-examples/tree/main/cli/endpoints/online/custom-container/minimal/multimodel"
   ]
  },
  {
   "cell_type": "code",
   "execution_count": null,
   "metadata": {},
   "outputs": [],
   "source": []
  }
 ],
 "metadata": {
  "kernelspec": {
   "display_name": "fwhleng",
   "language": "python",
   "name": "python3"
  },
  "language_info": {
   "codemirror_mode": {
    "name": "ipython",
    "version": 3
   },
   "file_extension": ".py",
   "mimetype": "text/x-python",
   "name": "python",
   "nbconvert_exporter": "python",
   "pygments_lexer": "ipython3",
   "version": "3.10.10"
  },
  "orig_nbformat": 4
 },
 "nbformat": 4,
 "nbformat_minor": 2
}
