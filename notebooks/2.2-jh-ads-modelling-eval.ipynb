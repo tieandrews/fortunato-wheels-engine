{
 "cells": [
  {
   "cell_type": "code",
   "execution_count": null,
   "metadata": {},
   "outputs": [],
   "source": [
    "import os, sys\n",
    "\n",
    "import pandas as pd\n",
    "import numpy as np\n",
    "import json\n",
    "import plotly.express as px\n",
    "import mlflow\n",
    "from mlflow.models.signature import infer_signature\n",
    "from dotenv import load_dotenv, find_dotenv\n",
    "import seaborn as sns\n",
    "import matplotlib.pyplot as plt\n",
    "import pickle\n",
    "\n",
    "from sklearn.model_selection import train_test_split\n",
    "from sklearn.pipeline import Pipeline\n",
    "from sklearn.preprocessing import OneHotEncoder, StandardScaler\n",
    "from sklearn.metrics import mean_squared_error, r2_score\n",
    "from sklearn.compose import ColumnTransformer\n",
    "from sklearn.model_selection import cross_validate, cross_val_score\n",
    "from xgboost import XGBRegressor\n",
    "\n",
    "\n",
    "cur_dir = os.getcwd()\n",
    "SRC_PATH = cur_dir[: cur_dir.index(\"fortunato-wheels-engine\") + len(\"fortunato-wheels-engine\")]\n",
    "if SRC_PATH not in sys.path:\n",
    "    sys.path.append(SRC_PATH)\n",
    "\n",
    "from src.data.car_ads import CarAds\n",
    "from src.logs import get_logger\n",
    "\n",
    "logger = get_logger(__name__)\n",
    "\n",
    "AZURE_MLFLOW_URI = os.environ.get(\"AZURE_MLFLOW_URI\")\n",
    "mlflow.set_tracking_uri(AZURE_MLFLOW_URI)\n",
    "\n",
    "sns.set_theme(style=\"whitegrid\")\n",
    "sns.set(rc={\"figure.figsize\": (8, 12)})\n",
    "# set context to notebook\n",
    "sns.set_context(\"notebook\", font_scale=1.5, rc={\"lines.linewidth\": 2.5})\n",
    "plt.rcParams[\"font.family\"] = \"sans serif\"\n",
    "\n",
    "%load_ext autoreload\n",
    "%autoreload 2"
   ]
  },
  {
   "cell_type": "markdown",
   "metadata": {},
   "source": [
    "## Load in current car adds"
   ]
  },
  {
   "cell_type": "code",
   "execution_count": null,
   "metadata": {},
   "outputs": [],
   "source": [
    "ads = CarAds()\n",
    "# ads.get_car_ads(sources=[\"cargurus\", \"kijiji\"])\n",
    "ads.get_car_ads(data_dump=os.path.join(SRC_PATH, \"data\", \"processed\", \"car-ads-dump_2023-07-18.csv\"))"
   ]
  },
  {
   "cell_type": "code",
   "execution_count": null,
   "metadata": {},
   "outputs": [],
   "source": [
    "ads.df.info()"
   ]
  },
  {
   "cell_type": "code",
   "execution_count": null,
   "metadata": {},
   "outputs": [],
   "source": [
    "ads.df.describe()"
   ]
  },
  {
   "cell_type": "code",
   "execution_count": null,
   "metadata": {},
   "outputs": [],
   "source": [
    "ads.preprocess_ads()"
   ]
  },
  {
   "cell_type": "code",
   "execution_count": null,
   "metadata": {},
   "outputs": [],
   "source": [
    "def preprocess_ads_for_training(\n",
    "        ads_df:pd.DataFrame,\n",
    "        model_features = [\n",
    "            \"age_at_posting\",\n",
    "            \"mileage_per_year\",\n",
    "            \"make\",\n",
    "            \"model\",\n",
    "            \"wheel_system\",\n",
    "        ],\n",
    "        min_num_ads = 1000,\n",
    "        max_age_at_posting = 20,\n",
    "        min_price = 1000,\n",
    "        max_price = 250000,\n",
    "    ):\n",
    "\n",
    "    logger.info(f\"Preprocessing ads for training, starting with {len(ads_df)} ads\")\n",
    "\n",
    "    if \"model\" not in model_features:\n",
    "        model_features.append(\"model\")\n",
    "\n",
    "    if \"price\" not in model_features:\n",
    "        model_features = model_features + [\"price\"]\n",
    "\n",
    "    preprocessed_df = ads_df[model_features].copy()\n",
    "\n",
    "    # remove models with less than min_num_ads\n",
    "    model_counts = preprocessed_df[\"model\"].value_counts()\n",
    "    models_to_keep = model_counts[model_counts > min_num_ads].index\n",
    "    preprocessed_df = preprocessed_df[preprocessed_df[\"model\"].isin(models_to_keep)]\n",
    "\n",
    "    # remove NaN models and \"other\"\n",
    "    preprocessed_df = preprocessed_df[~preprocessed_df[\"model\"].isna()]\n",
    "    preprocessed_df = preprocessed_df[preprocessed_df[\"model\"].str.lower() != \"other\"]\n",
    "\n",
    "    # remove ads with prices outside of min_price and max_price\n",
    "    preprocessed_df = preprocessed_df.query(\"price > @min_price & price < @max_price\")\n",
    "\n",
    "    if \"age_at_posting\" in model_features:\n",
    "        # remove cars older than max_age_at_posting years\n",
    "        preprocessed_df = preprocessed_df[preprocessed_df[\"age_at_posting\"] <= max_age_at_posting]\n",
    "\n",
    "    if \"wheel_system\" in model_features:\n",
    "        # replace NaN wheel_system with \"unknown\"\n",
    "        preprocessed_df[\"wheel_system\"] = preprocessed_df[\"wheel_system\"].fillna(\"unknown\")\n",
    "\n",
    "    if \"mileage_per_year\" in model_features:\n",
    "        # where ads have an age_at_posting of zero set mileage_per_year to 0\n",
    "        preprocessed_df.loc[preprocessed_df[\"age_at_posting\"] == 0, \"mileage_per_year\"] = 0\n",
    "        # drop any other mileage per year NaNs\n",
    "        preprocessed_df = preprocessed_df[~preprocessed_df[\"mileage_per_year\"].isna()]\n",
    "\n",
    "    logger.info(f\"Preprocessing ads for training, ending with {len(preprocessed_df)} ads\")\n",
    "\n",
    "    return preprocessed_df"
   ]
  },
  {
   "cell_type": "code",
   "execution_count": null,
   "metadata": {},
   "outputs": [],
   "source": [
    "model_features = [\n",
    "    \"age_at_posting\",\n",
    "    \"mileage_per_year\",\n",
    "    \"make\",\n",
    "    \"model\",\n",
    "    \"price\",\n",
    "    \"wheel_system\"\n",
    "]\n",
    "\n",
    "preprocessed_ads = preprocess_ads_for_training(ads.df, model_features=model_features)\n",
    "\n",
    "train_df, test_df = train_test_split(\n",
    "    preprocessed_ads,\n",
    "    test_size=0.2,\n",
    "    random_state=42,\n",
    "    stratify=preprocessed_ads[\"model\"],\n",
    ")\n",
    "\n",
    "# with features selected drop all with null values\n",
    "train_df = train_df[model_features].dropna().reset_index(drop=True)\n",
    "test_df = test_df[model_features].dropna().reset_index(drop=True)\n",
    "\n",
    "X_train = train_df.drop(columns=[\"price\"])\n",
    "y_train = train_df[\"price\"]\n",
    "X_test = test_df.drop(columns=[\"price\"])\n",
    "y_test = test_df[\"price\"]"
   ]
  },
  {
   "cell_type": "code",
   "execution_count": null,
   "metadata": {},
   "outputs": [],
   "source": [
    "# plot how many ads there are by the top make_name values\n",
    "fig = px.histogram(\n",
    "    # ads.loc[ads.make_name.isin(ads.make_name.value_counts().index[:15])],\n",
    "    train_df.loc[train_df.model.isin(train_df.model.value_counts().index[:60])],\n",
    "    x=\"model\",\n",
    "    title=\"Number of Ads by Model\",\n",
    "    color=\"model\",\n",
    "    labels={\"model\": \"Model\"},\n",
    "    color_discrete_sequence=px.colors.qualitative.Dark24,\n",
    "    height=500,\n",
    "    category_orders={\"model\": train_df.model.value_counts().index[:60]}\n",
    ")\n",
    "fig.show()"
   ]
  },
  {
   "cell_type": "code",
   "execution_count": null,
   "metadata": {},
   "outputs": [],
   "source": [
    "# plot how many ads there are by the top 20 make values\n",
    "fig = px.histogram(\n",
    "    # ads.loc[ads.make_name.isin(ads.make_name.value_counts().index[:15])],\n",
    "    train_df.loc[train_df.make.isin(train_df.make.value_counts().index[:20])],\n",
    "    x=\"make\",\n",
    "    title=\"Number of Ads by Make\",\n",
    "    color=\"make\",\n",
    "    labels={\"make\": \"Make\"},\n",
    "    color_discrete_sequence=px.colors.qualitative.Dark24,\n",
    "    height=500,\n",
    "    category_orders={\"make\": train_df.make.value_counts().index[:20]}\n",
    ")\n",
    "fig.show()"
   ]
  },
  {
   "cell_type": "code",
   "execution_count": null,
   "metadata": {},
   "outputs": [],
   "source": [
    "train_df.age_at_posting.value_counts()"
   ]
  },
  {
   "cell_type": "code",
   "execution_count": null,
   "metadata": {},
   "outputs": [],
   "source": [
    "train_df.age_at_posting.value_counts().sort_values(ascending=False)"
   ]
  },
  {
   "cell_type": "code",
   "execution_count": null,
   "metadata": {},
   "outputs": [],
   "source": [
    "# plot how many ads there are by the top 20 make values\n",
    "fig = px.histogram(\n",
    "    # ads.loc[ads.make_name.isin(ads.make_name.value_counts().index[:15])],\n",
    "    train_df.loc[train_df.make.isin(train_df.make.value_counts().index[:20])],\n",
    "    x=\"make\",\n",
    "    title=\"Number of Ads by Make\",\n",
    "    color=\"make\",\n",
    "    labels={\"make\": \"Make\"},\n",
    "    color_discrete_sequence=px.colors.qualitative.Dark24,\n",
    "    height=500,\n",
    "    category_orders={\"make\": train_df.make.value_counts().index[:20]}\n",
    ")\n",
    "fig.show()"
   ]
  },
  {
   "cell_type": "markdown",
   "metadata": {},
   "source": [
    "## Load and Fit model"
   ]
  },
  {
   "cell_type": "code",
   "execution_count": null,
   "metadata": {},
   "outputs": [],
   "source": [
    "# Load the model from file\n",
    "model_path = os.path.join(SRC_PATH, \"models\", \"job_sleepy_star_599wg0mt\", \"model.pkl\")\n",
    "\n",
    "with open(model_path, 'rb') as f:\n",
    "    model = pickle.load(f)\n",
    "\n",
    "# Fit model \n",
    "model.fit(X_train, y_train)\n"
   ]
  },
  {
   "cell_type": "code",
   "execution_count": null,
   "metadata": {},
   "outputs": [],
   "source": [
    "# Predict on test set\n",
    "y_pred = model.predict(X_test)\n",
    "\n",
    "# Score model (MAPE, RMSE, r2) \n",
    "mape = np.mean(np.abs((y_test - y_pred) / y_test)) * 100\n",
    "rmse = np.sqrt(mean_squared_error(y_test, y_pred))\n",
    "r2 = r2_score(y_test, y_pred)"
   ]
  },
  {
   "cell_type": "code",
   "execution_count": null,
   "metadata": {},
   "outputs": [],
   "source": [
    "rmse"
   ]
  },
  {
   "cell_type": "code",
   "execution_count": null,
   "metadata": {},
   "outputs": [],
   "source": [
    "# add predicted price to test_df, round to 1 decimal place\n",
    "\n",
    "full_df = test_df.copy(deep=True)\n",
    "full_df['predicted_price'] = y_pred.round(1)\n",
    "full_df"
   ]
  },
  {
   "cell_type": "code",
   "execution_count": null,
   "metadata": {},
   "outputs": [],
   "source": [
    "fig = px.scatter(full_df, x='price', y='predicted_price', opacity=0.5)\n",
    "fig.update_layout(\n",
    "    xaxis_title=\"Actual Prices\",\n",
    "    yaxis_title=\"Predicted Prices\",\n",
    "    title=\"Scatter plot: Actual Prices vs. Predicted Prices\",\n",
    "    width=800,\n",
    "    height=400,\n",
    ")\n",
    "fig.show()"
   ]
  },
  {
   "cell_type": "code",
   "execution_count": null,
   "metadata": {},
   "outputs": [],
   "source": [
    "fig = px.scatter(full_df.loc[full_df.make.isin(full_df.make.value_counts().index[:20])], \n",
    "                x='price',\n",
    "                y='predicted_price', \n",
    "                color='make',\n",
    "                opacity=0.5,\n",
    "                facet_col='make',\n",
    "                facet_col_wrap=5\n",
    "                )\n",
    "fig.update_layout(\n",
    "    xaxis_title=\"Actual Prices\",\n",
    "    yaxis_title=\"Predicted Prices\",\n",
    "    title=\"Scatter plot: Actual Prices vs. Predicted Prices\",\n",
    "    width=800,\n",
    "    height=400,\n",
    ")\n",
    "fig.show()"
   ]
  },
  {
   "cell_type": "code",
   "execution_count": null,
   "metadata": {},
   "outputs": [],
   "source": [
    "# get unique make model combinations\n",
    "unique_make_models = full_df[['make', 'model']].drop_duplicates()\n",
    "unique_makes = full_df['make'].unique()\n",
    "\n",
    "mape_by_make_model = {}\n",
    "rmse_by_make_model = {}\n",
    "\n",
    "mape_by_make = {}\n",
    "rmse_by_make= {}\n",
    "\n",
    "# calcualte metrics for each make model combination\n",
    "for make, model in unique_make_models.values:\n",
    "    subset_data = full_df[(full_df['make'] == make) & (full_df['model'] == model)]\n",
    "    y_actual_subset = subset_data['price']\n",
    "    y_predicted_subset = subset_data['predicted_price']\n",
    "        \n",
    "    mape = np.mean(np.abs((y_actual_subset - y_predicted_subset) / y_actual_subset)) * 100 \n",
    "    rmse = np.sqrt(mean_squared_error(y_actual_subset, y_predicted_subset))\n",
    "        \n",
    "    mape_by_make_model[(make, model)] = mape\n",
    "    rmse_by_make_model[(make, model)] = rmse\n",
    "    \n",
    "# calcualte metrics for each make\n",
    "for make in unique_makes:\n",
    "    subset_data = full_df[full_df['make'] == make]\n",
    "    y_actual_subset = subset_data['price']\n",
    "    y_predicted_subset = subset_data['predicted_price']\n",
    "        \n",
    "    mape = np.mean(np.abs((y_actual_subset - y_predicted_subset) / y_actual_subset)) * 100 \n",
    "    rmse = np.sqrt(mean_squared_error(y_actual_subset, y_predicted_subset))\n",
    "     \n",
    "    mape_by_make[make] = mape\n",
    "    rmse_by_make[make] = rmse\n",
    "\n",
    "\n",
    "# save results to dataframes\n",
    "make_model_metrics = (\n",
    "    pd.DataFrame({'MAPE': mape_by_make_model, 'RMSE': rmse_by_make_model})\n",
    "    .reset_index()\n",
    "    .rename(columns={'level_0': 'make', 'level_1': 'model'})\n",
    ")\n",
    "\n",
    "make_metrics = (\n",
    "    pd.DataFrame({'MAPE': mape_by_make, 'RMSE': rmse_by_make})\n",
    "    .reset_index()\n",
    "    .rename(columns={'index': 'make'})\n",
    ")"
   ]
  },
  {
   "cell_type": "code",
   "execution_count": null,
   "metadata": {},
   "outputs": [],
   "source": [
    "\n",
    "# plot MAPE and RMSE by make\n",
    "fig_mape = px.bar(make_metrics,\n",
    "                x='make', \n",
    "                y='MAPE',\n",
    "                color='make',\n",
    "                opacity=0.5,\n",
    "                )\n",
    "fig_mape.update_layout(title='MAPE by Make', \n",
    "                       xaxis_title='Make', \n",
    "                       yaxis_title='MAPE', \n",
    "                       font=dict(size=14),\n",
    "                       xaxis={'categoryorder':'total descending'})\n",
    "\n",
    "fig_rmse = px.bar(make_metrics,\n",
    "                x='make', \n",
    "                y='RMSE',\n",
    "                color='make',\n",
    "                opacity=0.5,\n",
    "                )\n",
    "fig_rmse.update_layout(title='RMSE by Make', \n",
    "                       xaxis_title='Make', \n",
    "                       yaxis_title='RMSE', \n",
    "                       font=dict(size=14),\n",
    "                       xaxis={'categoryorder':'total descending'})\n",
    "\n",
    "fig_mape.show()\n",
    "fig_rmse.show()"
   ]
  },
  {
   "cell_type": "code",
   "execution_count": null,
   "metadata": {},
   "outputs": [],
   "source": [
    "import plotly.graph_objs as go\n",
    "from plotly.subplots import make_subplots\n",
    "\n",
    "#create subplot with two rows\n",
    "fig = make_subplots(rows=2, cols=1, shared_xaxes=True, vertical_spacing=0.1)\n",
    "\n",
    "# add MAPE bar chart to subplot\n",
    "fig_mape = go.Bar(x=make_metrics['make'], y=make_metrics['MAPE'], name='MAPE')\n",
    "fig.add_trace(fig_mape, row=1, col=1)\n",
    "\n",
    "# add RMSE bar chart to subplot\n",
    "fig_rmse = go.Bar(x=make_metrics['make'], y=make_metrics['RMSE'], name='RMSE')\n",
    "fig.add_trace(fig_rmse, row=2, col=1)\n",
    "\n",
    "# update layout\n",
    "fig.update_layout(title='MAPE and RMSE by Make', \n",
    "                  xaxis_title='Make', \n",
    "                  font=dict(size=14))\n",
    "\n",
    "# update y-axis titles\n",
    "fig.update_yaxes(title_text='MAPE', row=1, col=1)\n",
    "fig.update_yaxes(title_text='RMSE', row=2, col=1)\n",
    "\n",
    "fig.show()"
   ]
  },
  {
   "cell_type": "code",
   "execution_count": 135,
   "metadata": {},
   "outputs": [
    {
     "data": {
      "text/plain": [
       " 0     262503\n",
       " 3      74861\n",
       "-1      56142\n",
       " 1      56069\n",
       " 2      46690\n",
       " 4      32013\n",
       " 5      25702\n",
       " 6      21960\n",
       " 7      18908\n",
       " 8      16125\n",
       " 9      14016\n",
       " 10     11724\n",
       " 12      9389\n",
       " 11      9253\n",
       " 13      8651\n",
       " 14      6201\n",
       " 15      5989\n",
       " 16      4876\n",
       " 17      3563\n",
       " 18      2641\n",
       " 19      2007\n",
       " 20      1635\n",
       "-2          4\n",
       "Name: age_at_posting, dtype: int64"
      ]
     },
     "execution_count": 135,
     "metadata": {},
     "output_type": "execute_result"
    }
   ],
   "source": [
    "full_df['age_at_posting'].value_counts()"
   ]
  },
  {
   "cell_type": "code",
   "execution_count": 136,
   "metadata": {},
   "outputs": [
    {
     "name": "stdout",
     "output_type": "stream",
     "text": [
      "(-1, 1]     318572\n",
      "(1, 3]      121551\n",
      "(3, 5]       57715\n",
      "(5, 8]       56993\n",
      "(-2, -1]     56142\n",
      "(10, 15]     39483\n",
      "(8, 10]      25740\n",
      "(15, 20]     14722\n",
      "Name: age_bins, dtype: int64\n"
     ]
    }
   ],
   "source": [
    "# create bins for age_at_posting column\n",
    "bins = pd.IntervalIndex.from_tuples([(-2, -1), (-1, 1), (1, 3), (3, 5), (5, 8), (8, 10), (10, 15), (15, 20)])\n",
    "\n",
    "# create age_bins column\n",
    "full_df['age_bins'] = pd.cut(full_df['age_at_posting'], bins)\n",
    "\n",
    "# print value counts for age_bins column\n",
    "print(full_df['age_bins'].value_counts())"
   ]
  },
  {
   "cell_type": "code",
   "execution_count": null,
   "metadata": {},
   "outputs": [],
   "source": []
  }
 ],
 "metadata": {
  "kernelspec": {
   "display_name": "fwhleng",
   "language": "python",
   "name": "python3"
  },
  "language_info": {
   "codemirror_mode": {
    "name": "ipython",
    "version": 3
   },
   "file_extension": ".py",
   "mimetype": "text/x-python",
   "name": "python",
   "nbconvert_exporter": "python",
   "pygments_lexer": "ipython3",
   "version": "3.10.12"
  },
  "orig_nbformat": 4
 },
 "nbformat": 4,
 "nbformat_minor": 2
}
